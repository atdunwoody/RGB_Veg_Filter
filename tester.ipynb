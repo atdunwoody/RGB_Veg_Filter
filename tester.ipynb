{
 "cells": [
  {
   "cell_type": "code",
   "execution_count": 8,
   "metadata": {},
   "outputs": [
    {
     "name": "stdout",
     "output_type": "stream",
     "text": [
      "-32767.0\n"
     ]
    }
   ],
   "source": [
    "raster = r\"Y:\\ATD\\Drone Data Processing\\Exports\\East_Troublesome\\LM2\\LM2_2023 Exports\\LM2_2023____070923_PostError_PCFiltered_DEM_Veg_Masked.tif\"\n",
    "\n",
    "#get no dataq value\n",
    "import rasterio\n",
    "with rasterio.open(raster) as src:\n",
    "    nodata = src.nodata\n",
    "    print(nodata)"
   ]
  }
 ],
 "metadata": {
  "kernelspec": {
   "display_name": "ML",
   "language": "python",
   "name": "python3"
  },
  "language_info": {
   "codemirror_mode": {
    "name": "ipython",
    "version": 3
   },
   "file_extension": ".py",
   "mimetype": "text/x-python",
   "name": "python",
   "nbconvert_exporter": "python",
   "pygments_lexer": "ipython3",
   "version": "3.12.2"
  }
 },
 "nbformat": 4,
 "nbformat_minor": 2
}
