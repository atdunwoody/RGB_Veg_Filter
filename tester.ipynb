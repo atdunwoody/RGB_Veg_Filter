{
 "cells": [
  {
   "cell_type": "code",
   "execution_count": 5,
   "metadata": {},
   "outputs": [
    {
     "name": "stdout",
     "output_type": "stream",
     "text": [
      "Band 1: {'No Data Value': None, 'Average Value': -2.6808934e-08}\n",
      "Band 2: {'No Data Value': None, 'Average Value': 8.247623e-08}\n",
      "Band 3: {'No Data Value': None, 'Average Value': 4.5306187e-08}\n",
      "Band 4: {'No Data Value': None, 'Average Value': -2.9644845e-08}\n",
      "Band 5: {'No Data Value': None, 'Average Value': -2.6097677e-08}\n",
      "Band 6: {'No Data Value': None, 'Average Value': 4.8046353e-08}\n"
     ]
    }
   ],
   "source": [
    "raster_fn = r\"Y:\\ATD\\GIS\\East_Troublesome\\RF Vegetation Filtering\\LM2 - 070923 - Full Run v2\\RF_Tiled_Inputs\\stacked_bands_tile_input_29.tif\"\n",
    "\n",
    "import rasterio\n",
    "import numpy as np\n",
    "\n",
    "import rasterio\n",
    "import numpy as np\n",
    "\n",
    "def get_raster_statistics(raster_fn):\n",
    "    \"\"\"\n",
    "    Retrieve no data value and average value for each band of the raster.\n",
    "    \n",
    "    Args:\n",
    "    raster_fn (str): File path to the raster.\n",
    "    \n",
    "    Returns:\n",
    "    dict: Dictionary containing no data values and average values for each band.\n",
    "    \"\"\"\n",
    "    stats = {}\n",
    "    \n",
    "    with rasterio.open(raster_fn) as src:\n",
    "        for i in range(1, src.count + 1):  # src.count is the number of bands\n",
    "            band = src.read(i)\n",
    "            no_data_value = src.nodatavals[i - 1]  # nodatavals is a tuple, index from 0\n",
    "            \n",
    "            # Calculate average excluding no data values\n",
    "            if no_data_value is not None:\n",
    "                mask = band != no_data_value\n",
    "                if np.any(mask):  # Check if there are any data points after masking\n",
    "                    average_value = np.mean(band[mask])\n",
    "                else:\n",
    "                    average_value = float('nan')  # If no valid data, average is undefined\n",
    "            else:\n",
    "                average_value = np.mean(band)\n",
    "            \n",
    "            stats[f'Band {i}'] = {\n",
    "                'No Data Value': no_data_value,\n",
    "                'Average Value': average_value\n",
    "            }\n",
    "    \n",
    "    return stats\n",
    "\n",
    "\n",
    "stats = get_raster_statistics(raster_fn)\n",
    "\n",
    "for band, values in stats.items():\n",
    "    print(f'{band}: {values}')\n",
    "\n",
    "\n"
   ]
  }
 ],
 "metadata": {
  "kernelspec": {
   "display_name": "ML",
   "language": "python",
   "name": "python3"
  },
  "language_info": {
   "codemirror_mode": {
    "name": "ipython",
    "version": 3
   },
   "file_extension": ".py",
   "mimetype": "text/x-python",
   "name": "python",
   "nbconvert_exporter": "python",
   "pygments_lexer": "ipython3",
   "version": "3.12.2"
  }
 },
 "nbformat": 4,
 "nbformat_minor": 2
}
