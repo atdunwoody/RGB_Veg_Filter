{
 "cells": [
  {
   "cell_type": "markdown",
   "metadata": {},
   "source": [
    "# Enhanced Greenness Index (ExGI)\n",
    "\n",
    "The Enhanced Greenness Index (ExGI) is calculated as:\n",
    "\n",
    "$$\n",
    "\\text{ExGI} = 2 \\cdot G - (R + B) \\tag{1}\n",
    "$$\n",
    "\n",
    "where:\n",
    "- \\( R, G, B \\) represent the red, green, and blue components of an image pixel respectively.\n",
    "\n",
    "# Saturation Index\n",
    "\n",
    "The Saturation index is defined as:\n",
    "\n",
    "$$\n",
    "\\text{Saturation} = 1 - \\min([R, G, B]) \\tag{2}\n",
    "$$\n",
    "\n",
    "where:\n",
    "- \\( R, G, B \\) are the minimum values of the red, green, and blue components across the image data.\n",
    "\n",
    "# Uncertainty Calculation\n",
    "\n",
    "The uncertainty in the Difference of DEMs $(\\delta_{\\text{DoD}_{i,j}})$ is computed using:\n",
    "\n",
    "$$\n",
    "\\delta_{\\text{DoD}_{i,j}} = \\pm 1.96 \\cdot \\sqrt{\\delta_{\\text{LIDAR}}^2 + \\delta_{\\text{SfM}_{i,j}}^2} \\tag{3}\n",
    "$$\n",
    "\n",
    "where:\n",
    "- $(\\delta_{\\text{LIDAR}})$ is the Root Mean Square Error in elevation (RMSEz) reported for LIDAR data.\n",
    "- $(\\delta_{\\text{SfM}_{i,j}})$ refers to the RMSEz of the Structure from Motion (SfM) data at grid cell \\(i, j\\).\n",
    "\n",
    "\n"
   ]
  },
  {
   "cell_type": "code",
   "execution_count": null,
   "metadata": {
    "vscode": {
     "languageId": "plaintext"
    }
   },
   "outputs": [],
   "source": []
  }
 ],
 "metadata": {
  "kernelspec": {
   "display_name": "ML",
   "language": "python",
   "name": "python3"
  },
  "language_info": {
   "codemirror_mode": {
    "name": "ipython",
    "version": 3
   },
   "file_extension": ".py",
   "mimetype": "text/x-python",
   "name": "python",
   "nbconvert_exporter": "python",
   "pygments_lexer": "ipython3",
   "version": "3.8.13"
  }
 },
 "nbformat": 4,
 "nbformat_minor": 2
}
