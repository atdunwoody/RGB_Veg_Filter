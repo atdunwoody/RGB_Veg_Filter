{
 "cells": [
  {
   "cell_type": "code",
   "execution_count": 18,
   "metadata": {},
   "outputs": [
    {
     "ename": "AttributeError",
     "evalue": "module 'Tiled_Classification_RF' has no attribute 'train_GB'",
     "output_type": "error",
     "traceback": [
      "\u001b[1;31m---------------------------------------------------------------------------\u001b[0m",
      "\u001b[1;31mAttributeError\u001b[0m                            Traceback (most recent call last)",
      "Cell \u001b[1;32mIn[18], line 19\u001b[0m\n\u001b[0;32m     16\u001b[0m \u001b[38;5;28;01mfrom\u001b[39;00m \u001b[38;5;21;01mGIStools\u001b[39;00m\u001b[38;5;21;01m.\u001b[39;00m\u001b[38;5;21;01mGrid_Creation\u001b[39;00m \u001b[38;5;28;01mimport\u001b[39;00m create_grid\n\u001b[0;32m     17\u001b[0m \u001b[38;5;28;01mfrom\u001b[39;00m \u001b[38;5;21;01mGIStools\u001b[39;00m\u001b[38;5;21;01m.\u001b[39;00m\u001b[38;5;21;01mRaster_Matching\u001b[39;00m \u001b[38;5;28;01mimport\u001b[39;00m pad_rasters_to_largest\n\u001b[1;32m---> 19\u001b[0m rf, rf2 \u001b[38;5;241m=\u001b[39m \u001b[43mTCRF\u001b[49m\u001b[38;5;241;43m.\u001b[39;49m\u001b[43mtrain_GB\u001b[49m(X_train, y_train, train_tile, results_txt, est, n_cores, verbose)\n",
      "\u001b[1;31mAttributeError\u001b[0m: module 'Tiled_Classification_RF' has no attribute 'train_GB'"
     ]
    }
   ],
   "source": [
    "import Tiled_Classification_RF as TCRF\n",
    "import os, tempfile\n",
    "from osgeo import gdal, ogr, gdal_array # I/O image data\n",
    "import numpy as np # math and array handling\n",
    "import matplotlib.pyplot as plt # plot figures\n",
    "from sklearn.ensemble import RandomForestClassifier # classifier\n",
    "import pandas as pd # handling large data as table sheets\n",
    "from sklearn.metrics import classification_report, accuracy_score,confusion_matrix  # calculating measures for accuracy assessment\n",
    "import datetime\n",
    "\n",
    "# Tell GDAL to throw Python exceptions, and register all drivers\n",
    "gdal.UseExceptions()\n",
    "gdal.AllRegister()\n",
    "from GIStools.GIStools import preprocess_SfM_inputs\n",
    "from GIStools.Stitch_Rasters import stitch_rasters\n",
    "from GIStools.Grid_Creation import create_grid\n",
    "from GIStools.Raster_Matching import pad_rasters_to_largest\n",
    "\n",
    "rf, rf2 = TCRF.train_GB(X_train, y_train, train_tile, results_txt, est, n_cores, verbose)"
   ]
  },
  {
   "cell_type": "code",
   "execution_count": null,
   "metadata": {},
   "outputs": [],
   "source": [
    "#-------------------Required User Defined Inputs-------------------#\n",
    "\n",
    "#Path to orthomosaic and DEM from SfM processing\n",
    "DEM_path = r\"Z:\\ATD\\Drone Data Processing\\Exports\\East_Troublesome\\LM2\\LM2_2023 Exports\\LM2_2023____070923_PostError_PCFiltered_DEM.tif\"\n",
    "ortho_path = r\"Z:\\ATD\\Drone Data Processing\\Exports\\East_Troublesome\\LM2\\LM2_2023 Exports\\LM2_2023____070923_PostError_PCFiltered_Ortho.tif\"\n",
    "#Output folder for all generated Inputs and Results\n",
    "output_folder = r\"Y:\\ATD\\GIS\\East_Troublesome\\RF Vegetation Filtering\\LM2\\Results\\LM2_2023___070923_GB\"\n",
    "\n",
    "# Paths to training and validation as shape files. Training and validation shapefiles should be clipped to a single grid cell\n",
    "# Training and Validation shapefiles should be labeled with a single, NON ZERO  attribute that identifies bare earth and vegetation.\n",
    "training_path = r\"Y:\\ATD\\GIS\\East_Troublesome\\RF Vegetation Filtering\\LM2\\Training-Validation Shapefiles\\Training LM2_2023___070923.shp\"\n",
    "validation_path = r\"Y:\\ATD\\GIS\\East_Troublesome\\RF Vegetation Filtering\\LM2\\Training-Validation Shapefiles\\Validation LM2_2023___070923.shp\"\n",
    "attribute = 'id' # attribute name in training & validation shapefiles that labels bare earth & vegetation \n",
    "#-------------------Optional User Defined Classification Parameters-------------------#\n",
    "#Option to process an additional validation shapefile outside of the training grid cell. Set to None to skip second validation.\n",
    "validation_path_2 = None\n",
    "#validation_path_2 = r\"Z:\\ATD\\Drone Data Processing\\GIS Processing\\Vegetation Filtering Test\\Random_Forest\\Final Run\\Second_Validation_Shapefile\\Second_Validation.shp\"\n",
    "grid_ids = []  # Choose grid IDs to process, or leave empty to process all grid cells\n",
    "process_training_only = True # Set to True to only process the training tile, set to False to process all grid cells\n",
    "\n",
    "est = 300 # define number of trees that will be used to build random forest (default = 300)\n",
    "n_cores = -1 # -1 -> all available computing cores will be used (default = -1)\n",
    "verbose = False # Set to True to print out each tree progression (default = True)\n",
    "stitch = True # Set to True to stitch all classified tiles into a single image, set to False to keep classified tiles in separate rasters (default = True)\n",
    "\n",
    "#--------------------Input Preparation-----------------------------#\n",
    "#Create output folder if it doesn't exist\n",
    "if not os.path.exists(output_folder):\n",
    "    os.makedirs(output_folder)\n",
    "\n",
    "#List of grid-clipped images to classify and associated id values\n",
    "in_dir = os.path.join(output_folder, 'RF_Tiled_Inputs')\n",
    "#output folder for list of img_path_list grid-clipped classified images\n",
    "\n",
    "# directory, where the classification image should be saved:\n",
    "output_folder = os.path.join(output_folder, 'RF_Results')\n",
    "if not os.path.exists(output_folder):\n",
    "    os.makedirs(output_folder)\n",
    "classification_image = os.path.join(output_folder, 'Classified_Training_Image.tif')\n",
    "classified_tile_folder = os.path.join(output_folder, 'Classified_Tiles')\n",
    "if not os.path.exists(classified_tile_folder) and process_training_only == False:\n",
    "    os.makedirs(os.path.join(classified_tile_folder))"
   ]
  },
  {
   "cell_type": "code",
   "execution_count": null,
   "metadata": {},
   "outputs": [
    {
     "name": "stdout",
     "output_type": "stream",
     "text": [
      "Training Grid ID: 29\n",
      "Processing grid cell 1 of 1\n"
     ]
    },
    {
     "ename": "RuntimeError",
     "evalue": "",
     "output_type": "error",
     "traceback": [
      "\u001b[1;31m---------------------------------------------------------------------------\u001b[0m",
      "\u001b[1;31mRuntimeError\u001b[0m                              Traceback (most recent call last)",
      "Cell \u001b[1;32mIn[17], line 10\u001b[0m\n\u001b[0;32m      8\u001b[0m \u001b[38;5;28mprint\u001b[39m(\u001b[38;5;124m'\u001b[39m\u001b[38;5;124mTraining Grid ID: \u001b[39m\u001b[38;5;132;01m{}\u001b[39;00m\u001b[38;5;124m'\u001b[39m\u001b[38;5;241m.\u001b[39mformat(train_val_grid_id))     \n\u001b[0;32m      9\u001b[0m \u001b[38;5;66;03m#Bands output from preprocess function: Roughness, R, G, B, Saturation, Excessive Green Index\u001b[39;00m\n\u001b[1;32m---> 10\u001b[0m grid_ids \u001b[38;5;241m=\u001b[39m \u001b[43mpreprocess_SfM_inputs\u001b[49m\u001b[43m(\u001b[49m\u001b[43mgrid_path\u001b[49m\u001b[43m,\u001b[49m\u001b[43m \u001b[49m\u001b[43mortho_path\u001b[49m\u001b[43m,\u001b[49m\u001b[43m \u001b[49m\u001b[43mDEM_path\u001b[49m\u001b[43m,\u001b[49m\u001b[43m \u001b[49m\u001b[43mgrid_ids\u001b[49m\u001b[43m,\u001b[49m\u001b[43m \u001b[49m\u001b[43min_dir\u001b[49m\u001b[43m,\u001b[49m\u001b[43m \u001b[49m\u001b[43mverbose\u001b[49m\u001b[38;5;241;43m=\u001b[39;49m\u001b[43mverbose\u001b[49m\u001b[43m)\u001b[49m \u001b[38;5;66;03m#Prepare input stacked rasters for random forest classification\u001b[39;00m\n\u001b[0;32m     11\u001b[0m \u001b[38;5;28mprint\u001b[39m(\u001b[38;5;124m'\u001b[39m\u001b[38;5;124mGrid IDs to process: \u001b[39m\u001b[38;5;132;01m{}\u001b[39;00m\u001b[38;5;124m'\u001b[39m\u001b[38;5;241m.\u001b[39mformat(grid_ids))\n\u001b[0;32m     12\u001b[0m \u001b[38;5;66;03m#Ensure all rasters are the same size by padding smaller rasters with 0s. Having raster tiles of identical sizes is required for random forest classification\u001b[39;00m\n",
      "File \u001b[1;32mc:\\Users\\alextd\\Documents\\GitHub\\RGB_Veg_Filter\\GIStools\\GIStools.py:453\u001b[0m, in \u001b[0;36mpreprocess_SfM_inputs\u001b[1;34m(shapefile_path, ortho_filepath, DEM_filepath, grid_ids, output_folder, verbose)\u001b[0m\n\u001b[0;32m    451\u001b[0m \u001b[38;5;28;01mif\u001b[39;00m \u001b[38;5;129;01mnot\u001b[39;00m os\u001b[38;5;241m.\u001b[39mpath\u001b[38;5;241m.\u001b[39mexists(output_folder):\n\u001b[0;32m    452\u001b[0m     os\u001b[38;5;241m.\u001b[39mmakedirs(output_folder)\n\u001b[1;32m--> 453\u001b[0m stacked_output \u001b[38;5;241m=\u001b[39m \u001b[43mstack_bands\u001b[49m\u001b[43m(\u001b[49m\u001b[43mmatched_roughness_path\u001b[49m\u001b[43m,\u001b[49m\u001b[43m \u001b[49m\u001b[43moutput_folder\u001b[49m\u001b[43m,\u001b[49m\u001b[43m \u001b[49m\u001b[43msuffix\u001b[49m\u001b[43m \u001b[49m\u001b[38;5;241;43m=\u001b[39;49m\u001b[43m \u001b[49m\u001b[43mgrid_id\u001b[49m\u001b[43m,\u001b[49m\u001b[43m \u001b[49m\u001b[43mverbose\u001b[49m\u001b[38;5;241;43m=\u001b[39;49m\u001b[43mverbose\u001b[49m\u001b[43m)\u001b[49m\n\u001b[0;32m    455\u001b[0m \u001b[38;5;66;03m#Close datasets\u001b[39;00m\n\u001b[0;32m    456\u001b[0m masked_rasters \u001b[38;5;241m=\u001b[39m \u001b[38;5;28;01mNone\u001b[39;00m\n",
      "File \u001b[1;32mc:\\Users\\alextd\\Documents\\GitHub\\RGB_Veg_Filter\\GIStools\\GIStools.py:244\u001b[0m, in \u001b[0;36mstack_bands\u001b[1;34m(input_raster_list, output_path, suffix, verbose)\u001b[0m\n\u001b[0;32m    241\u001b[0m driver \u001b[38;5;241m=\u001b[39m gdal\u001b[38;5;241m.\u001b[39mGetDriverByName(\u001b[38;5;124m'\u001b[39m\u001b[38;5;124mGTiff\u001b[39m\u001b[38;5;124m'\u001b[39m)\n\u001b[0;32m    243\u001b[0m \u001b[38;5;66;03m# Create the output dataset\u001b[39;00m\n\u001b[1;32m--> 244\u001b[0m out_ds \u001b[38;5;241m=\u001b[39m \u001b[43mdriver\u001b[49m\u001b[38;5;241;43m.\u001b[39;49m\u001b[43mCreate\u001b[49m\u001b[43m(\u001b[49m\u001b[38;5;28;43mstr\u001b[39;49m\u001b[43m(\u001b[49m\u001b[43moutput_file\u001b[49m\u001b[43m)\u001b[49m\u001b[43m,\u001b[49m\u001b[43m \u001b[49m\u001b[43msrc_ds\u001b[49m\u001b[38;5;241;43m.\u001b[39;49m\u001b[43mRasterXSize\u001b[49m\u001b[43m,\u001b[49m\u001b[43m \u001b[49m\u001b[43msrc_ds\u001b[49m\u001b[38;5;241;43m.\u001b[39;49m\u001b[43mRasterYSize\u001b[49m\u001b[43m,\u001b[49m\u001b[43m \u001b[49m\u001b[38;5;28;43mlen\u001b[39;49m\u001b[43m(\u001b[49m\u001b[43minput_raster_list\u001b[49m\u001b[43m)\u001b[49m\u001b[43m,\u001b[49m\u001b[43m \u001b[49m\u001b[43mgdal\u001b[49m\u001b[38;5;241;43m.\u001b[39;49m\u001b[43mGDT_Float32\u001b[49m\u001b[43m)\u001b[49m\n\u001b[0;32m    245\u001b[0m out_ds\u001b[38;5;241m.\u001b[39mSetGeoTransform(geotransform)\n\u001b[0;32m    246\u001b[0m out_ds\u001b[38;5;241m.\u001b[39mSetProjection(projection)\n",
      "File \u001b[1;32mc:\\ProgramData\\miniconda3\\envs\\GIStools\\Lib\\site-packages\\osgeo\\gdal.py:2771\u001b[0m, in \u001b[0;36mDriver.Create\u001b[1;34m(self, *args, **kwargs)\u001b[0m\n\u001b[0;32m   2766\u001b[0m \u001b[38;5;250m\u001b[39m\u001b[38;5;124mr\u001b[39m\u001b[38;5;124;03m\"\"\"Create(Driver self, char const * utf8_path, int xsize, int ysize, int bands=1, GDALDataType eType=GDT_Byte, char ** options=None) -> Dataset\"\"\"\u001b[39;00m\n\u001b[0;32m   2768\u001b[0m _WarnIfUserHasNotSpecifiedIfUsingExceptions()\n\u001b[1;32m-> 2771\u001b[0m \u001b[38;5;28;01mreturn\u001b[39;00m \u001b[43m_gdal\u001b[49m\u001b[38;5;241;43m.\u001b[39;49m\u001b[43mDriver_Create\u001b[49m\u001b[43m(\u001b[49m\u001b[38;5;28;43mself\u001b[39;49m\u001b[43m,\u001b[49m\u001b[43m \u001b[49m\u001b[38;5;241;43m*\u001b[39;49m\u001b[43margs\u001b[49m\u001b[43m,\u001b[49m\u001b[43m \u001b[49m\u001b[38;5;241;43m*\u001b[39;49m\u001b[38;5;241;43m*\u001b[39;49m\u001b[43mkwargs\u001b[49m\u001b[43m)\u001b[49m\n",
      "\u001b[1;31mRuntimeError\u001b[0m: "
     ]
    }
   ],
   "source": [
    "#==================== Preprocessing ====================#\n",
    "    #Create grid cells to process large rasters in chunks. \n",
    "#Each grid cell is the size of the extent training and validation shapefiles\n",
    "train_val_grid_id, grid_path, cell_dim = create_grid([training_path,validation_path], DEM_path, in_dir)\n",
    "if process_training_only: #preprocess_function will now only process the training tile\n",
    "    grid_ids.append(train_val_grid_id)\n",
    "\n",
    "print('Training Grid ID: {}'.format(train_val_grid_id))     \n",
    "#Bands output from preprocess function: Roughness, R, G, B, Saturation, Excessive Green Index\n",
    "grid_ids = preprocess_SfM_inputs(grid_path, ortho_path, DEM_path, grid_ids, in_dir, verbose=verbose) #Prepare input stacked rasters for random forest classification\n",
    "print('Grid IDs to process: {}'.format(grid_ids))\n",
    "#Ensure all rasters are the same size by padding smaller rasters with 0s. Having raster tiles of identical sizes is required for random forest classification\n",
    "raster_dims = pad_rasters_to_largest(in_dir, verbose=verbose)\n",
    "img_path_list, id_values = TCRF.find_files(in_dir) # list of all grid-clipped images to classify and associated id values\n",
    "attribute_names = TCRF.print_attributes(training_path) # print the attributes in the training shapefile\n"
   ]
  },
  {
   "cell_type": "code",
   "execution_count": null,
   "metadata": {},
   "outputs": [
    {
     "name": "stdout",
     "output_type": "stream",
     "text": [
      "Extracting image data from: Y:\\ATD\\GIS\\East_Troublesome\\RF Vegetation Filtering\\LM2\\Results\\LM2_2023___070923_GB\\RF_Tiled_Inputs\\stacked_bands_tile_input_29.tif\n",
      "Image extent: 5623 x 10102 (row x col)\n",
      "Number of Bands: 6\n"
     ]
    },
    {
     "ename": "AttributeError",
     "evalue": "module 'Tiled_Classification_RF' has no attribute 'train_GB'",
     "output_type": "error",
     "traceback": [
      "\u001b[1;31m---------------------------------------------------------------------------\u001b[0m",
      "\u001b[1;31mAttributeError\u001b[0m                            Traceback (most recent call last)",
      "Cell \u001b[1;32mIn[14], line 10\u001b[0m\n\u001b[0;32m      7\u001b[0m X_train, y_train, labels, roi \u001b[38;5;241m=\u001b[39m TCRF\u001b[38;5;241m.\u001b[39mextract_shapefile_data(training_path, train_tile, train_tile_3Darray, results_txt, attribute, \u001b[38;5;124m\"\u001b[39m\u001b[38;5;124mTRAINING\u001b[39m\u001b[38;5;124m\"\u001b[39m)\n\u001b[0;32m      9\u001b[0m \u001b[38;5;66;03m#rf, rf2 = TCRF.train_RF(X_train, y_train, train_tile, results_txt, est, n_cores, verbose) # train the random forest classifier\u001b[39;00m\n\u001b[1;32m---> 10\u001b[0m rf, rf2 \u001b[38;5;241m=\u001b[39m \u001b[43mTCRF\u001b[49m\u001b[38;5;241;43m.\u001b[39;49m\u001b[43mtrain_GB\u001b[49m(X_train, y_train, train_tile, results_txt, est, n_cores, verbose) \u001b[38;5;66;03m# train the gradient boosting classifier\u001b[39;00m\n\u001b[0;32m     12\u001b[0m train_tile_2Darray \u001b[38;5;241m=\u001b[39m TCRF\u001b[38;5;241m.\u001b[39mflatten_raster_bands(train_tile_3Darray) \u001b[38;5;66;03m# Convert NaNs to 0.0\u001b[39;00m\n\u001b[0;32m     13\u001b[0m class_prediction \u001b[38;5;241m=\u001b[39m TCRF\u001b[38;5;241m.\u001b[39mpredict_classification(rf, train_tile_2Darray, train_tile_3Darray) \u001b[38;5;66;03m# predict the classification for each pixel using the trained model\u001b[39;00m\n",
      "\u001b[1;31mAttributeError\u001b[0m: module 'Tiled_Classification_RF' has no attribute 'train_GB'"
     ]
    }
   ],
   "source": [
    "\n",
    "#===========================Main Classification Loop===========================#\n",
    "train_tile_path = os.path.join(in_dir, f'stacked_bands_tile_input_{train_val_grid_id}.tif') # grid-clipped-image containing the training data\n",
    "results_txt = os.path.join(output_folder, 'Results_Summary.txt') # directory, where the all meta results will be saved\n",
    "TCRF.print_header(results_txt, DEM_path, ortho_path, train_tile_path, training_path, validation_path, img_path_list, attribute) # print the header for the results text file\n",
    "train_tile, train_tile_3Darray = TCRF.extract_image_data(train_tile_path, results_txt, est, log=True) # extract the training tile image data\n",
    "# Extract training data from shapefile\n",
    "X_train, y_train, labels, roi = TCRF.extract_shapefile_data(training_path, train_tile, train_tile_3Darray, results_txt, attribute, \"TRAINING\")\n",
    "\n",
    "#rf, rf2 = TCRF.train_RF(X_train, y_train, train_tile, results_txt, est, n_cores, verbose) # train the random forest classifier\n",
    "rf, rf2 = TCRF.train_GB(X_train, y_train, train_tile, results_txt, est, n_cores, verbose) # train the gradient boosting classifier\n",
    "\n",
    "train_tile_2Darray = TCRF.flatten_raster_bands(train_tile_3Darray) # Convert NaNs to 0.0\n",
    "class_prediction = TCRF.predict_classification(rf, train_tile_2Darray, train_tile_3Darray) # predict the classification for each pixel using the trained model\n",
    "masked_prediction = TCRF.reshape_and_mask_prediction(class_prediction, train_tile_3Darray) # mask the prediction to only include bare earth and vegetation\n",
    "TCRF.save_classification_image(classification_image, train_tile, train_tile_3Darray, masked_prediction) # save the masked classification image\n",
    "# Extract validation data from shapefile\n",
    "X_v, y_v, labels_v, roi_v = TCRF.extract_shapefile_data(validation_path, train_tile, class_prediction, results_txt, attribute, \"VALIDATION\") \n",
    "TCRF.model_evaluation(X_v, y_v, labels_v, roi_v, class_prediction, results_txt) # evaluate the model using the validation data\n",
    "\n",
    "del train_tile # close the image dataset"
   ]
  },
  {
   "cell_type": "code",
   "execution_count": null,
   "metadata": {},
   "outputs": [
    {
     "name": "stdout",
     "output_type": "stream",
     "text": [
      "(5623, 10102, 6)\n",
      "(56803546, 6)\n",
      "(98886,)\n",
      "(98886,)\n",
      "Rows: 5623, Cols: 10102, Bands: 6\n",
      "Class prediction shape: (5623, 10102)\n"
     ]
    }
   ],
   "source": [
    "print(train_tile_3Darray.shape)\n",
    "print(train_tile_2Darray.shape)\n",
    "print(X_v.shape)\n",
    "print(y_v.shape)\n",
    "\n",
    "#get rows and cols from train tile path\n",
    "#open train tile path\n",
    "train_tile = gdal.Open(train_tile_path)\n",
    "rows = train_tile.RasterYSize\n",
    "cols = train_tile.RasterXSize\n",
    "bands = train_tile.RasterCount\n",
    "print(f\"Rows: {rows}, Cols: {cols}, Bands: {bands}\")\n",
    "print(f\"Class prediction shape: {class_prediction.shape}\")"
   ]
  }
 ],
 "metadata": {
  "kernelspec": {
   "display_name": "GIStools",
   "language": "python",
   "name": "python3"
  },
  "language_info": {
   "codemirror_mode": {
    "name": "ipython",
    "version": 3
   },
   "file_extension": ".py",
   "mimetype": "text/x-python",
   "name": "python",
   "nbconvert_exporter": "python",
   "pygments_lexer": "ipython3",
   "version": "3.11.6"
  }
 },
 "nbformat": 4,
 "nbformat_minor": 2
}
