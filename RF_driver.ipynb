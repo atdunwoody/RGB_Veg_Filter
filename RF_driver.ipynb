{
 "cells": [
  {
   "cell_type": "code",
   "execution_count": 2,
   "metadata": {},
   "outputs": [
    {
     "name": "stdout",
     "output_type": "stream",
     "text": [
      "Recording parameters to Y:\\ATD\\GIS\\East_Troublesome\\RF Vegetation Filtering\\MM\\07092023 5cm\\RF_parameters.txt...\n"
     ]
    }
   ],
   "source": [
    "import RF_input_parameters as RF_inp\n",
    "import RF_tile_creator as RF_tc\n",
    "\n",
    "RF_params = RF_inp.RF_Parameters()  # Create base parameters\n",
    "RF_tc.create_tiles(RF_params)\n"
   ]
  },
  {
   "cell_type": "code",
   "execution_count": 3,
   "metadata": {},
   "outputs": [],
   "source": [
    "if RF_params.add_classifier_params().model_path is None:\n",
    "    import RF_trainer as RF_tr\n",
    "    RF_tr.train_model(RF_params)"
   ]
  },
  {
   "cell_type": "code",
   "execution_count": 4,
   "metadata": {},
   "outputs": [
    {
     "ename": "RuntimeError",
     "evalue": "not a string",
     "output_type": "error",
     "traceback": [
      "\u001b[1;31m---------------------------------------------------------------------------\u001b[0m",
      "\u001b[1;31mRuntimeError\u001b[0m                              Traceback (most recent call last)",
      "Input \u001b[1;32mIn [4]\u001b[0m, in \u001b[0;36m<cell line: 2>\u001b[1;34m()\u001b[0m\n\u001b[0;32m      1\u001b[0m \u001b[38;5;28;01mimport\u001b[39;00m \u001b[38;5;21;01mRF_tile_classifier\u001b[39;00m \u001b[38;5;28;01mas\u001b[39;00m \u001b[38;5;21;01mRF_cl\u001b[39;00m\n\u001b[1;32m----> 2\u001b[0m \u001b[43mRF_cl\u001b[49m\u001b[38;5;241;43m.\u001b[39;49m\u001b[43mclassify_tiles\u001b[49m\u001b[43m(\u001b[49m\u001b[43mRF_params\u001b[49m\u001b[43m)\u001b[49m\n",
      "File \u001b[1;32mc:\\Users\\alextd\\Documents\\GitHub\\RGB_Veg_Filter\\RF_tile_classifier.py:42\u001b[0m, in \u001b[0;36mclassify_tiles\u001b[1;34m(params)\u001b[0m\n\u001b[0;32m     39\u001b[0m params\u001b[38;5;241m.\u001b[39mclassified_tile_folder \u001b[38;5;241m=\u001b[39m classified_tile_folder\n\u001b[0;32m     41\u001b[0m results_txt \u001b[38;5;241m=\u001b[39m os\u001b[38;5;241m.\u001b[39mpath\u001b[38;5;241m.\u001b[39mjoin(output_folder, \u001b[38;5;124m'\u001b[39m\u001b[38;5;124mResults_Summary.txt\u001b[39m\u001b[38;5;124m'\u001b[39m) \u001b[38;5;66;03m# directory, where the all meta results will be saved\u001b[39;00m\n\u001b[1;32m---> 42\u001b[0m grid_ids_to_process, grid_path \u001b[38;5;241m=\u001b[39m \u001b[43mget_ids_to_process\u001b[49m\u001b[43m(\u001b[49m\u001b[43mparams\u001b[49m\u001b[43m)\u001b[49m \u001b[38;5;66;03m# get the grid ids to process\u001b[39;00m\n\u001b[0;32m     43\u001b[0m params\u001b[38;5;241m.\u001b[39mclassified_tile_paths \u001b[38;5;241m=\u001b[39m [] \u001b[38;5;66;03m# list to store the paths of the classified tiles\u001b[39;00m\n\u001b[0;32m     45\u001b[0m \u001b[38;5;66;03m#===========================Main Classification Loop===========================#\u001b[39;00m\n",
      "File \u001b[1;32mc:\\Users\\alextd\\Documents\\GitHub\\RGB_Veg_Filter\\RF_tile_creator.py:65\u001b[0m, in \u001b[0;36mget_ids_to_process\u001b[1;34m(params)\u001b[0m\n\u001b[0;32m     62\u001b[0m     params\u001b[38;5;241m.\u001b[39mgrid_path \u001b[38;5;241m=\u001b[39m out_grid_path\n\u001b[0;32m     64\u001b[0m \u001b[38;5;28;01melif\u001b[39;00m params\u001b[38;5;241m.\u001b[39mgrid_path \u001b[38;5;129;01mis\u001b[39;00m \u001b[38;5;28;01mNone\u001b[39;00m:\n\u001b[1;32m---> 65\u001b[0m     params\u001b[38;5;241m.\u001b[39mtrain_val_grid_id, params\u001b[38;5;241m.\u001b[39mgrid_path, _ \u001b[38;5;241m=\u001b[39m \u001b[43mcreate_grid\u001b[49m\u001b[43m(\u001b[49m\u001b[43m[\u001b[49m\u001b[43mparams\u001b[49m\u001b[38;5;241;43m.\u001b[39;49m\u001b[43mtraining_path\u001b[49m\u001b[43m,\u001b[49m\u001b[43mparams\u001b[49m\u001b[38;5;241;43m.\u001b[39;49m\u001b[43mvalidation_path\u001b[49m\u001b[43m]\u001b[49m\u001b[43m,\u001b[49m\u001b[43m \u001b[49m\u001b[43mparams\u001b[49m\u001b[38;5;241;43m.\u001b[39;49m\u001b[43mDEM_path\u001b[49m\u001b[43m,\u001b[49m\u001b[43m \u001b[49m\u001b[43mparams\u001b[49m\u001b[38;5;241;43m.\u001b[39;49m\u001b[43mtile_dir\u001b[49m\u001b[43m)\u001b[49m\n\u001b[0;32m     66\u001b[0m     \u001b[38;5;28mprint\u001b[39m(\u001b[38;5;124m'\u001b[39m\u001b[38;5;124mTraining Grid ID: \u001b[39m\u001b[38;5;132;01m{}\u001b[39;00m\u001b[38;5;124m'\u001b[39m\u001b[38;5;241m.\u001b[39mformat(params\u001b[38;5;241m.\u001b[39mtrain_val_grid_id))\n\u001b[0;32m     68\u001b[0m grid \u001b[38;5;241m=\u001b[39m gpd\u001b[38;5;241m.\u001b[39mread_file(params\u001b[38;5;241m.\u001b[39mgrid_path)\n",
      "File \u001b[1;32mc:\\Users\\alextd\\Documents\\GitHub\\RGB_Veg_Filter\\GIStools\\Grid_Creation.py:89\u001b[0m, in \u001b[0;36mcreate_grid\u001b[1;34m(shapefile_paths, bounding_raster, output_folder, bounds_multiplier)\u001b[0m\n\u001b[0;32m     85\u001b[0m         combined_extent \u001b[38;5;241m=\u001b[39m get_layer_extent(shapefile_paths[\u001b[38;5;241m0\u001b[39m])\n\u001b[0;32m     86\u001b[0m     \u001b[38;5;28;01mreturn\u001b[39;00m combined_extent\n\u001b[1;32m---> 89\u001b[0m cell_bounds \u001b[38;5;241m=\u001b[39m \u001b[43mget_combined_extent\u001b[49m\u001b[43m(\u001b[49m\u001b[43mshapefile_paths\u001b[49m\u001b[43m)\u001b[49m\n\u001b[0;32m     90\u001b[0m     \u001b[38;5;66;03m# Load the raster\u001b[39;00m\n\u001b[0;32m     91\u001b[0m \u001b[38;5;66;03m#Execute statement if cell_dim is not defined\u001b[39;00m\n\u001b[0;32m     92\u001b[0m     \n\u001b[0;32m     93\u001b[0m \u001b[38;5;66;03m# Calculate 10% buffer for each dimension of the cell_bounds\u001b[39;00m\n\u001b[0;32m     94\u001b[0m buffer_width_x \u001b[38;5;241m=\u001b[39m (cell_bounds[\u001b[38;5;241m2\u001b[39m] \u001b[38;5;241m-\u001b[39m cell_bounds[\u001b[38;5;241m0\u001b[39m]) \u001b[38;5;241m*\u001b[39m \u001b[38;5;241m0.1\u001b[39m\n",
      "File \u001b[1;32mc:\\Users\\alextd\\Documents\\GitHub\\RGB_Veg_Filter\\GIStools\\Grid_Creation.py:78\u001b[0m, in \u001b[0;36mcreate_grid.<locals>.get_combined_extent\u001b[1;34m(shapefile_paths)\u001b[0m\n\u001b[0;32m     76\u001b[0m \u001b[38;5;28;01mif\u001b[39;00m \u001b[38;5;28mlen\u001b[39m(shapefile_paths) \u001b[38;5;241m>\u001b[39m \u001b[38;5;241m1\u001b[39m:\n\u001b[0;32m     77\u001b[0m     \u001b[38;5;28;01mfor\u001b[39;00m vector_path \u001b[38;5;129;01min\u001b[39;00m shapefile_paths:\n\u001b[1;32m---> 78\u001b[0m         current_extent \u001b[38;5;241m=\u001b[39m \u001b[43mget_layer_extent\u001b[49m\u001b[43m(\u001b[49m\u001b[43mvector_path\u001b[49m\u001b[43m)\u001b[49m\n\u001b[0;32m     79\u001b[0m         \u001b[38;5;28;01mif\u001b[39;00m current_extent:\n\u001b[0;32m     80\u001b[0m             \u001b[38;5;28;01mif\u001b[39;00m combined_extent:\n",
      "File \u001b[1;32mc:\\Users\\alextd\\Documents\\GitHub\\RGB_Veg_Filter\\GIStools\\Grid_Creation.py:52\u001b[0m, in \u001b[0;36mcreate_grid.<locals>.get_combined_extent.<locals>.get_layer_extent\u001b[1;34m(vector_path)\u001b[0m\n\u001b[0;32m     50\u001b[0m \u001b[38;5;28;01mdef\u001b[39;00m \u001b[38;5;21mget_layer_extent\u001b[39m(vector_path):\n\u001b[0;32m     51\u001b[0m     \u001b[38;5;124;03m\"\"\"Returns the extent of the given vector layer.\"\"\"\u001b[39;00m\n\u001b[1;32m---> 52\u001b[0m     dataset \u001b[38;5;241m=\u001b[39m \u001b[43mogr\u001b[49m\u001b[38;5;241;43m.\u001b[39;49m\u001b[43mOpen\u001b[49m\u001b[43m(\u001b[49m\u001b[43mvector_path\u001b[49m\u001b[43m)\u001b[49m\n\u001b[0;32m     53\u001b[0m     \u001b[38;5;28;01mif\u001b[39;00m \u001b[38;5;129;01mnot\u001b[39;00m dataset:\n\u001b[0;32m     54\u001b[0m         \u001b[38;5;28mprint\u001b[39m(\u001b[38;5;124mf\u001b[39m\u001b[38;5;124m\"\u001b[39m\u001b[38;5;124mFailed to open the file at \u001b[39m\u001b[38;5;132;01m{\u001b[39;00mvector_path\u001b[38;5;132;01m}\u001b[39;00m\u001b[38;5;124m\"\u001b[39m)\n",
      "File \u001b[1;32mc:\\ProgramData\\miniconda3\\envs\\ML\\lib\\site-packages\\osgeo\\ogr.py:8130\u001b[0m, in \u001b[0;36mOpen\u001b[1;34m(*args, **kwargs)\u001b[0m\n\u001b[0;32m   8128\u001b[0m \u001b[38;5;28;01mdef\u001b[39;00m \u001b[38;5;21mOpen\u001b[39m(\u001b[38;5;241m*\u001b[39margs, \u001b[38;5;241m*\u001b[39m\u001b[38;5;241m*\u001b[39mkwargs):\n\u001b[0;32m   8129\u001b[0m     \u001b[38;5;124;03m\"\"\"Open(char const * utf8_path, int update=0) -> DataSource\"\"\"\u001b[39;00m\n\u001b[1;32m-> 8130\u001b[0m     \u001b[38;5;28;01mreturn\u001b[39;00m \u001b[43m_ogr\u001b[49m\u001b[38;5;241;43m.\u001b[39;49m\u001b[43mOpen\u001b[49m\u001b[43m(\u001b[49m\u001b[38;5;241;43m*\u001b[39;49m\u001b[43margs\u001b[49m\u001b[43m,\u001b[49m\u001b[43m \u001b[49m\u001b[38;5;241;43m*\u001b[39;49m\u001b[38;5;241;43m*\u001b[39;49m\u001b[43mkwargs\u001b[49m\u001b[43m)\u001b[49m\n",
      "\u001b[1;31mRuntimeError\u001b[0m: not a string"
     ]
    }
   ],
   "source": [
    "import RF_tile_classifier as RF_cl\n",
    "RF_cl.classify_tiles(RF_params)"
   ]
  },
  {
   "cell_type": "code",
   "execution_count": null,
   "metadata": {},
   "outputs": [],
   "source": [
    "import os\n",
    "import RF_input_parameters as RF_inp\n",
    "import RF_tile_creator as RF_tc\n",
    "\n",
    "#check DEM and Ortho path location\n",
    "inputs_dict =   {'UM2_071922': [r\"Y:\\ATD\\GIS\\East_Troublesome\\RF Vegetation Filtering\\Input DEMs and Orthos\\UM2_2023____071922_PostError_PCFiltered_Ortho_5cm.tif\",\n",
    "                                r\"Y:\\ATD\\GIS\\East_Troublesome\\RF Vegetation Filtering\\Input DEMs and Orthos\\UM2_2023____071922_PostError_PCFiltered_DEM_5cm.tif\"],\n",
    "                 'UM1_090822' : [r\"Y:\\ATD\\GIS\\East_Troublesome\\RF Vegetation Filtering\\Input DEMs and Orthos\\UM1_2023____090822_PostError_PCFiltered_Ortho_5cm.tif\",\n",
    "                                r\"Y:\\ATD\\GIS\\East_Troublesome\\RF Vegetation Filtering\\Input DEMs and Orthos\\UM1_2023____090822_PostError_PCFiltered_DEM_5cm.tif\"]\n",
    "}\n",
    "\n",
    "\n",
    "for key, value in inputs_dict.items():\n",
    "    RF_params = RF_inp.RF_Parameters()  # Create base parameters\n",
    "    RF_params.DEM_path = value[1]\n",
    "    RF_params.ortho_path = value[0]\n",
    "    RF_params.output_folder = r\"Y:\\ATD\\GIS\\East_Troublesome\\RF Vegetation Filtering\\{}\".format(key)\n",
    "    print(RF_params.output_folder)  \n",
    "    if not os.path.exists(RF_params.output_folder):\n",
    "        os.makedirs(RF_params.output_folder)\n",
    "    RF_params.record_params()\n",
    "    RF_tc.create_tiles(RF_params)\n",
    "    import RF_tile_classifier as RF_cl\n",
    "    RF_cl.classify_tiles(RF_params)\n",
    "\n"
   ]
  }
 ],
 "metadata": {
  "kernelspec": {
   "display_name": "ML",
   "language": "python",
   "name": "python3"
  },
  "language_info": {
   "codemirror_mode": {
    "name": "ipython",
    "version": 3
   },
   "file_extension": ".py",
   "mimetype": "text/x-python",
   "name": "python",
   "nbconvert_exporter": "python",
   "pygments_lexer": "ipython3",
   "version": "3.8.13"
  }
 },
 "nbformat": 4,
 "nbformat_minor": 2
}
