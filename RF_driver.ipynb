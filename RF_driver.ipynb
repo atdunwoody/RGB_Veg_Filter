{
 "cells": [
  {
   "cell_type": "code",
   "execution_count": 1,
   "metadata": {},
   "outputs": [],
   "source": [
    "import RF_input_parameters as RF_inp\n",
    "import RF_tile_creator as RF_tc\n",
    "import RF_tile_classifier as RF_cl\n",
    "\n",
    "tile_params = RF_inp.TileCreatorParameters()\n",
    "#RF_tc.create_tiles(tile_params)\n"
   ]
  },
  {
   "cell_type": "code",
   "execution_count": null,
   "metadata": {},
   "outputs": [],
   "source": [
    "import RF_input_parameters as RF_inp\n",
    "\n",
    "classifier_params = RF_inp.TileClassifierParameters()\n",
    "\n",
    "RF_cl.classify_tiles(classifier_params)"
   ]
  },
  {
   "cell_type": "code",
   "execution_count": 5,
   "metadata": {},
   "outputs": [
    {
     "name": "stdout",
     "output_type": "stream",
     "text": [
      "Stitching rasters\n",
      "Trying to open raster:  Y:\\ATD\\GIS\\East_Troublesome\\RF Vegetation Filtering\\LM2 - 070923 - Full Run\\RF_Tiled_Inputs\\stacked_bands_tile_input_1.tif\n",
      "Trying to open raster:  Y:\\ATD\\GIS\\East_Troublesome\\RF Vegetation Filtering\\LM2 - 070923 - Full Run\\RF_Tiled_Inputs\\stacked_bands_tile_input_10.tif\n",
      "Trying to open raster:  Y:\\ATD\\GIS\\East_Troublesome\\RF Vegetation Filtering\\LM2 - 070923 - Full Run\\RF_Tiled_Inputs\\stacked_bands_tile_input_11.tif\n",
      "Trying to open raster:  Y:\\ATD\\GIS\\East_Troublesome\\RF Vegetation Filtering\\LM2 - 070923 - Full Run\\RF_Tiled_Inputs\\stacked_bands_tile_input_12.tif\n",
      "Trying to open raster:  Y:\\ATD\\GIS\\East_Troublesome\\RF Vegetation Filtering\\LM2 - 070923 - Full Run\\RF_Tiled_Inputs\\stacked_bands_tile_input_13.tif\n",
      "Trying to open raster:  Y:\\ATD\\GIS\\East_Troublesome\\RF Vegetation Filtering\\LM2 - 070923 - Full Run\\RF_Tiled_Inputs\\stacked_bands_tile_input_14.tif\n",
      "Trying to open raster:  Y:\\ATD\\GIS\\East_Troublesome\\RF Vegetation Filtering\\LM2 - 070923 - Full Run\\RF_Tiled_Inputs\\stacked_bands_tile_input_15.tif\n",
      "Trying to open raster:  Y:\\ATD\\GIS\\East_Troublesome\\RF Vegetation Filtering\\LM2 - 070923 - Full Run\\RF_Tiled_Inputs\\stacked_bands_tile_input_16.tif\n",
      "Trying to open raster:  Y:\\ATD\\GIS\\East_Troublesome\\RF Vegetation Filtering\\LM2 - 070923 - Full Run\\RF_Tiled_Inputs\\stacked_bands_tile_input_17.tif\n",
      "Trying to open raster:  Y:\\ATD\\GIS\\East_Troublesome\\RF Vegetation Filtering\\LM2 - 070923 - Full Run\\RF_Tiled_Inputs\\stacked_bands_tile_input_18.tif\n",
      "Trying to open raster:  Y:\\ATD\\GIS\\East_Troublesome\\RF Vegetation Filtering\\LM2 - 070923 - Full Run\\RF_Tiled_Inputs\\stacked_bands_tile_input_19.tif\n",
      "Trying to open raster:  Y:\\ATD\\GIS\\East_Troublesome\\RF Vegetation Filtering\\LM2 - 070923 - Full Run\\RF_Tiled_Inputs\\stacked_bands_tile_input_2.tif\n",
      "Trying to open raster:  Y:\\ATD\\GIS\\East_Troublesome\\RF Vegetation Filtering\\LM2 - 070923 - Full Run\\RF_Tiled_Inputs\\stacked_bands_tile_input_20.tif\n",
      "Trying to open raster:  Y:\\ATD\\GIS\\East_Troublesome\\RF Vegetation Filtering\\LM2 - 070923 - Full Run\\RF_Tiled_Inputs\\stacked_bands_tile_input_21.tif\n",
      "Trying to open raster:  Y:\\ATD\\GIS\\East_Troublesome\\RF Vegetation Filtering\\LM2 - 070923 - Full Run\\RF_Tiled_Inputs\\stacked_bands_tile_input_22.tif\n",
      "Trying to open raster:  Y:\\ATD\\GIS\\East_Troublesome\\RF Vegetation Filtering\\LM2 - 070923 - Full Run\\RF_Tiled_Inputs\\stacked_bands_tile_input_23.tif\n",
      "Trying to open raster:  Y:\\ATD\\GIS\\East_Troublesome\\RF Vegetation Filtering\\LM2 - 070923 - Full Run\\RF_Tiled_Inputs\\stacked_bands_tile_input_24.tif\n",
      "Trying to open raster:  Y:\\ATD\\GIS\\East_Troublesome\\RF Vegetation Filtering\\LM2 - 070923 - Full Run\\RF_Tiled_Inputs\\stacked_bands_tile_input_25.tif\n",
      "Trying to open raster:  Y:\\ATD\\GIS\\East_Troublesome\\RF Vegetation Filtering\\LM2 - 070923 - Full Run\\RF_Tiled_Inputs\\stacked_bands_tile_input_26.tif\n",
      "Trying to open raster:  Y:\\ATD\\GIS\\East_Troublesome\\RF Vegetation Filtering\\LM2 - 070923 - Full Run\\RF_Tiled_Inputs\\stacked_bands_tile_input_27.tif\n",
      "Trying to open raster:  Y:\\ATD\\GIS\\East_Troublesome\\RF Vegetation Filtering\\LM2 - 070923 - Full Run\\RF_Tiled_Inputs\\stacked_bands_tile_input_28.tif\n",
      "Trying to open raster:  Y:\\ATD\\GIS\\East_Troublesome\\RF Vegetation Filtering\\LM2 - 070923 - Full Run\\RF_Tiled_Inputs\\stacked_bands_tile_input_29.tif\n",
      "Trying to open raster:  Y:\\ATD\\GIS\\East_Troublesome\\RF Vegetation Filtering\\LM2 - 070923 - Full Run\\RF_Tiled_Inputs\\stacked_bands_tile_input_3.tif\n",
      "Trying to open raster:  Y:\\ATD\\GIS\\East_Troublesome\\RF Vegetation Filtering\\LM2 - 070923 - Full Run\\RF_Tiled_Inputs\\stacked_bands_tile_input_30.tif\n",
      "Trying to open raster:  Y:\\ATD\\GIS\\East_Troublesome\\RF Vegetation Filtering\\LM2 - 070923 - Full Run\\RF_Tiled_Inputs\\stacked_bands_tile_input_31.tif\n",
      "Trying to open raster:  Y:\\ATD\\GIS\\East_Troublesome\\RF Vegetation Filtering\\LM2 - 070923 - Full Run\\RF_Tiled_Inputs\\stacked_bands_tile_input_32.tif\n",
      "Trying to open raster:  Y:\\ATD\\GIS\\East_Troublesome\\RF Vegetation Filtering\\LM2 - 070923 - Full Run\\RF_Tiled_Inputs\\stacked_bands_tile_input_33.tif\n",
      "Trying to open raster:  Y:\\ATD\\GIS\\East_Troublesome\\RF Vegetation Filtering\\LM2 - 070923 - Full Run\\RF_Tiled_Inputs\\stacked_bands_tile_input_34.tif\n",
      "Trying to open raster:  Y:\\ATD\\GIS\\East_Troublesome\\RF Vegetation Filtering\\LM2 - 070923 - Full Run\\RF_Tiled_Inputs\\stacked_bands_tile_input_35.tif\n",
      "Trying to open raster:  Y:\\ATD\\GIS\\East_Troublesome\\RF Vegetation Filtering\\LM2 - 070923 - Full Run\\RF_Tiled_Inputs\\stacked_bands_tile_input_36.tif\n",
      "Trying to open raster:  Y:\\ATD\\GIS\\East_Troublesome\\RF Vegetation Filtering\\LM2 - 070923 - Full Run\\RF_Tiled_Inputs\\stacked_bands_tile_input_37.tif\n",
      "Trying to open raster:  Y:\\ATD\\GIS\\East_Troublesome\\RF Vegetation Filtering\\LM2 - 070923 - Full Run\\RF_Tiled_Inputs\\stacked_bands_tile_input_38.tif\n",
      "Trying to open raster:  Y:\\ATD\\GIS\\East_Troublesome\\RF Vegetation Filtering\\LM2 - 070923 - Full Run\\RF_Tiled_Inputs\\stacked_bands_tile_input_39.tif\n",
      "Trying to open raster:  Y:\\ATD\\GIS\\East_Troublesome\\RF Vegetation Filtering\\LM2 - 070923 - Full Run\\RF_Tiled_Inputs\\stacked_bands_tile_input_4.tif\n",
      "Trying to open raster:  Y:\\ATD\\GIS\\East_Troublesome\\RF Vegetation Filtering\\LM2 - 070923 - Full Run\\RF_Tiled_Inputs\\stacked_bands_tile_input_40.tif\n",
      "Trying to open raster:  Y:\\ATD\\GIS\\East_Troublesome\\RF Vegetation Filtering\\LM2 - 070923 - Full Run\\RF_Tiled_Inputs\\stacked_bands_tile_input_41.tif\n",
      "Trying to open raster:  Y:\\ATD\\GIS\\East_Troublesome\\RF Vegetation Filtering\\LM2 - 070923 - Full Run\\RF_Tiled_Inputs\\stacked_bands_tile_input_42.tif\n",
      "Trying to open raster:  Y:\\ATD\\GIS\\East_Troublesome\\RF Vegetation Filtering\\LM2 - 070923 - Full Run\\RF_Tiled_Inputs\\stacked_bands_tile_input_43.tif\n",
      "Trying to open raster:  Y:\\ATD\\GIS\\East_Troublesome\\RF Vegetation Filtering\\LM2 - 070923 - Full Run\\RF_Tiled_Inputs\\stacked_bands_tile_input_44.tif\n",
      "Trying to open raster:  Y:\\ATD\\GIS\\East_Troublesome\\RF Vegetation Filtering\\LM2 - 070923 - Full Run\\RF_Tiled_Inputs\\stacked_bands_tile_input_45.tif\n",
      "Trying to open raster:  Y:\\ATD\\GIS\\East_Troublesome\\RF Vegetation Filtering\\LM2 - 070923 - Full Run\\RF_Tiled_Inputs\\stacked_bands_tile_input_46.tif\n",
      "Trying to open raster:  Y:\\ATD\\GIS\\East_Troublesome\\RF Vegetation Filtering\\LM2 - 070923 - Full Run\\RF_Tiled_Inputs\\stacked_bands_tile_input_47.tif\n",
      "Trying to open raster:  Y:\\ATD\\GIS\\East_Troublesome\\RF Vegetation Filtering\\LM2 - 070923 - Full Run\\RF_Tiled_Inputs\\stacked_bands_tile_input_48.tif\n",
      "Trying to open raster:  Y:\\ATD\\GIS\\East_Troublesome\\RF Vegetation Filtering\\LM2 - 070923 - Full Run\\RF_Tiled_Inputs\\stacked_bands_tile_input_49.tif\n",
      "Trying to open raster:  Y:\\ATD\\GIS\\East_Troublesome\\RF Vegetation Filtering\\LM2 - 070923 - Full Run\\RF_Tiled_Inputs\\stacked_bands_tile_input_5.tif\n",
      "Trying to open raster:  Y:\\ATD\\GIS\\East_Troublesome\\RF Vegetation Filtering\\LM2 - 070923 - Full Run\\RF_Tiled_Inputs\\stacked_bands_tile_input_50.tif\n",
      "Trying to open raster:  Y:\\ATD\\GIS\\East_Troublesome\\RF Vegetation Filtering\\LM2 - 070923 - Full Run\\RF_Tiled_Inputs\\stacked_bands_tile_input_51.tif\n",
      "Trying to open raster:  Y:\\ATD\\GIS\\East_Troublesome\\RF Vegetation Filtering\\LM2 - 070923 - Full Run\\RF_Tiled_Inputs\\stacked_bands_tile_input_52.tif\n",
      "Trying to open raster:  Y:\\ATD\\GIS\\East_Troublesome\\RF Vegetation Filtering\\LM2 - 070923 - Full Run\\RF_Tiled_Inputs\\stacked_bands_tile_input_53.tif\n",
      "Trying to open raster:  Y:\\ATD\\GIS\\East_Troublesome\\RF Vegetation Filtering\\LM2 - 070923 - Full Run\\RF_Tiled_Inputs\\stacked_bands_tile_input_54.tif\n",
      "Trying to open raster:  Y:\\ATD\\GIS\\East_Troublesome\\RF Vegetation Filtering\\LM2 - 070923 - Full Run\\RF_Tiled_Inputs\\stacked_bands_tile_input_55.tif\n",
      "Trying to open raster:  Y:\\ATD\\GIS\\East_Troublesome\\RF Vegetation Filtering\\LM2 - 070923 - Full Run\\RF_Tiled_Inputs\\stacked_bands_tile_input_56.tif\n",
      "Trying to open raster:  Y:\\ATD\\GIS\\East_Troublesome\\RF Vegetation Filtering\\LM2 - 070923 - Full Run\\RF_Tiled_Inputs\\stacked_bands_tile_input_6.tif\n",
      "Trying to open raster:  Y:\\ATD\\GIS\\East_Troublesome\\RF Vegetation Filtering\\LM2 - 070923 - Full Run\\RF_Tiled_Inputs\\stacked_bands_tile_input_7.tif\n",
      "Trying to open raster:  Y:\\ATD\\GIS\\East_Troublesome\\RF Vegetation Filtering\\LM2 - 070923 - Full Run\\RF_Tiled_Inputs\\stacked_bands_tile_input_8.tif\n",
      "Trying to open raster:  Y:\\ATD\\GIS\\East_Troublesome\\RF Vegetation Filtering\\LM2 - 070923 - Full Run\\RF_Tiled_Inputs\\stacked_bands_tile_input_9.tif\n"
     ]
    }
   ],
   "source": [
    "# import os\n",
    "# from GIStools.Stitch_Rasters import stitch_rasters\n",
    "\n",
    "# if classifier_params.stitch and len(classifier_params.grid_ids_to_process) > 1:\n",
    "#     print('Stitching rasters')\n",
    "#     stitched_raster_path = os.path.join(classifier_params.output_folder, 'Stitched_Classified_Image.tif')\n",
    "#     #Check if stitched_raster_path exists, if so, delete it\n",
    "#     if os.path.exists(stitched_raster_path):\n",
    "#         os.remove(stitched_raster_path)\n",
    "#     stitch_rasters(classifier_params.tile_dir, stitched_raster_path)  "
   ]
  }
 ],
 "metadata": {
  "kernelspec": {
   "display_name": "ML",
   "language": "python",
   "name": "python3"
  },
  "language_info": {
   "codemirror_mode": {
    "name": "ipython",
    "version": 3
   },
   "file_extension": ".py",
   "mimetype": "text/x-python",
   "name": "python",
   "nbconvert_exporter": "python",
   "pygments_lexer": "ipython3",
   "version": "3.12.2"
  }
 },
 "nbformat": 4,
 "nbformat_minor": 2
}
