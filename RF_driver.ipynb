{
 "cells": [
  {
   "cell_type": "code",
   "execution_count": null,
   "metadata": {},
   "outputs": [],
   "source": [
    "import RF_input_parameters as RF_inp\n",
    "import RF_tile_creator as RF_tc\n",
    "\n",
    "RF_params = RF_inp.RF_Parameters()  # Create base parameters\n",
    "RF_tc.create_tiles(RF_params)\n"
   ]
  },
  {
   "cell_type": "code",
   "execution_count": 2,
   "metadata": {},
   "outputs": [],
   "source": [
    "if RF_params.add_classifier_params().model_path is None:\n",
    "    import RF_trainer as RF_tr\n",
    "    RF_tr.train_model(RF_params)"
   ]
  },
  {
   "cell_type": "code",
   "execution_count": null,
   "metadata": {},
   "outputs": [],
   "source": [
    "import RF_tile_classifier as RF_cl\n",
    "RF_cl.classify_tiles(RF_params)"
   ]
  },
  {
   "cell_type": "code",
   "execution_count": null,
   "metadata": {},
   "outputs": [],
   "source": [
    "import os\n",
    "import RF_input_parameters as RF_inp\n",
    "import RF_tile_creator as RF_tc\n",
    "\n",
    "#check DEM and Ortho path location\n",
    "inputs_dict =   {'UM2_071922': [r\"Y:\\ATD\\GIS\\East_Troublesome\\RF Vegetation Filtering\\Input DEMs and Orthos\\UM2_2023____071922_PostError_PCFiltered_Ortho_5cm.tif\",\n",
    "                                r\"Y:\\ATD\\GIS\\East_Troublesome\\RF Vegetation Filtering\\Input DEMs and Orthos\\UM2_2023____071922_PostError_PCFiltered_DEM_5cm.tif\"],\n",
    "                 'UM1_090822' : [r\"Y:\\ATD\\GIS\\East_Troublesome\\RF Vegetation Filtering\\Input DEMs and Orthos\\UM1_2023____090822_PostError_PCFiltered_Ortho_5cm.tif\",\n",
    "                                r\"Y:\\ATD\\GIS\\East_Troublesome\\RF Vegetation Filtering\\Input DEMs and Orthos\\UM1_2023____090822_PostError_PCFiltered_DEM_5cm.tif\"]\n",
    "}\n",
    "\n",
    "\n",
    "for key, value in inputs_dict.items():\n",
    "    RF_params = RF_inp.RF_Parameters()  # Create base parameters\n",
    "    RF_params.DEM_path = value[1]\n",
    "    RF_params.ortho_path = value[0]\n",
    "    RF_params.output_folder = r\"Y:\\ATD\\GIS\\East_Troublesome\\RF Vegetation Filtering\\{}\".format(key)\n",
    "    print(RF_params.output_folder)  \n",
    "    if not os.path.exists(RF_params.output_folder):\n",
    "        os.makedirs(RF_params.output_folder)\n",
    "    RF_params.record_params()\n",
    "    RF_tc.create_tiles(RF_params)\n",
    "    import RF_tile_classifier as RF_cl\n",
    "    RF_cl.classify_tiles(RF_params)\n",
    "\n"
   ]
  }
 ],
 "metadata": {
  "kernelspec": {
   "display_name": "ML",
   "language": "python",
   "name": "python3"
  },
  "language_info": {
   "codemirror_mode": {
    "name": "ipython",
    "version": 3
   },
   "file_extension": ".py",
   "mimetype": "text/x-python",
   "name": "python",
   "nbconvert_exporter": "python",
   "pygments_lexer": "ipython3",
   "version": "3.8.13"
  }
 },
 "nbformat": 4,
 "nbformat_minor": 2
}
