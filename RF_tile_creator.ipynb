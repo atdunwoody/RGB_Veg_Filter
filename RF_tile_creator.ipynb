{
 "cells": [
  {
   "cell_type": "code",
   "execution_count": 8,
   "metadata": {},
   "outputs": [],
   "source": [
    "import Tiled_Classification_RF as TCRF\n",
    "import os, tempfile\n",
    "from osgeo import gdal, ogr, gdal_array # I/O image data\n",
    "import numpy as np # math and array handling\n",
    "import matplotlib.pyplot as plt # plot figures\n",
    "from sklearn.ensemble import RandomForestClassifier # classifier\n",
    "import pandas as pd # handling large data as table sheets\n",
    "import geopandas as gpd # handling large data as shapefiles\n",
    "from sklearn.metrics import classification_report, accuracy_score,confusion_matrix  # calculating measures for accuracy assessment\n",
    "import datetime\n",
    "from xgboost import XGBClassifier\n",
    "# Tell GDAL to throw Python exceptions, and register all drivers\n",
    "gdal.UseExceptions()\n",
    "gdal.AllRegister()\n",
    "from GIStools.GIStools import preprocess_SfM_inputs\n",
    "from GIStools.Stitch_Rasters import stitch_rasters\n",
    "from GIStools.Grid_Creation import create_grid\n",
    "from GIStools.Raster_Matching import pad_rasters_to_largest\n",
    "from GIStools.Raster_Augmentation import standarize_multi_band_rasters\n",
    "from RF_input_parameters import TileCreatorParameters\n",
    "import joblib"
   ]
  },
  {
   "cell_type": "code",
   "execution_count": 9,
   "metadata": {},
   "outputs": [],
   "source": [
    "#-------------------Required User Defined Inputs-------------------#\n",
    "params = TileCreatorParameters()\n",
    "\n",
    "DEM_path = params.DEM_path\n",
    "ortho_path = params.ortho_path\n",
    "output_folder = params.output_folder\n",
    "training_path = params.training_path\n",
    "validation_path = params.validation_path\n",
    "grid_ids_to_process = params.grid_ids_to_process\n",
    "grid_path = params.grid_path\n",
    "standardize_rasters = params.standardize_rasters\n",
    "verbose = params.verbose\n",
    "stitch = params.stitch\n",
    "\n",
    "#--------------------Input Preparation-----------------------------#\n",
    "#Create output folder if it doesn't exist\n",
    "if not os.path.exists(output_folder):\n",
    "    os.makedirs(output_folder)\n",
    "\n",
    "#List of grid-clipped images to classify and associated id values\n",
    "in_dir = os.path.join(output_folder, 'RF_Tiled_Inputs')\n",
    "\n"
   ]
  },
  {
   "cell_type": "code",
   "execution_count": 10,
   "metadata": {},
   "outputs": [
    {
     "name": "stdout",
     "output_type": "stream",
     "text": [
      "Training Grid ID: 29\n",
      "Processing grid cell 1 of 2\n",
      "Grid cell 27 processed.\n",
      "Output saved to Y:\\ATD\\Drone Data Processing\\GIS Processing\\Random_Forest_BE_Classification\\LM2\\08122023\\RF_Tiled_Inputs\\stacked_bands_tile_input_27.tif\n",
      "Processing grid cell 2 of 2\n",
      "Grid cell 29 processed.\n",
      "Output saved to Y:\\ATD\\Drone Data Processing\\GIS Processing\\Random_Forest_BE_Classification\\LM2\\08122023\\RF_Tiled_Inputs\\stacked_bands_tile_input_29.tif\n"
     ]
    }
   ],
   "source": [
    "#==================== Preprocessing ====================#\n",
    "    #Create grid cells to process large rasters in chunks. \n",
    "#Each grid cell is the size of the extent training and validation shapefiles\n",
    "if grid_path is None:\n",
    "    train_val_grid_id, grid_path, _ = create_grid([training_path,validation_path], DEM_path, in_dir)\n",
    "    grid = gpd.read_file(grid_path)\n",
    "    grid_ids_to_process = grid['id'].values.tolist() if grid_ids_to_process is None else grid_ids_to_process\n",
    "    print('Training Grid ID: {}'.format(train_val_grid_id)) \n",
    "else:\n",
    "    grid = gpd.read_file(grid_path)\n",
    "    grid_ids_to_process = grid['id'].values.tolist() if grid_ids_to_process is None else grid_ids_to_process\n",
    "    print('Grid IDs: {}'.format(grid_ids_to_process))  \n",
    "#Bands output from preprocess function: Roughness, R, G, B, Saturation, Excessive Green Index\n",
    "grid_ids, tiled_raster_paths = preprocess_SfM_inputs(grid_path, ortho_path, DEM_path, grid_ids_to_process, in_dir, verbose=verbose) #Prepare input stacked rasters for random forest classification"
   ]
  },
  {
   "cell_type": "code",
   "execution_count": 11,
   "metadata": {},
   "outputs": [
    {
     "name": "stdout",
     "output_type": "stream",
     "text": [
      "Standardized raster saved to: Y:\\ATD\\Drone Data Processing\\GIS Processing\\Random_Forest_BE_Classification\\LM2\\08122023\\RF_Tiled_Inputs\\stacked_bands_tile_input_27_standardized.tif\n",
      "Standardized raster saved to: Y:\\ATD\\Drone Data Processing\\GIS Processing\\Random_Forest_BE_Classification\\LM2\\08122023\\RF_Tiled_Inputs\\stacked_bands_tile_input_29_standardized.tif\n"
     ]
    }
   ],
   "source": [
    "if standardize_rasters:\n",
    "    standarized_rasters = standarize_multi_band_rasters(tiled_raster_paths) #Standarize rasters for random forest classification\n",
    "\n",
    "#Ensure all rasters are the same size by padding smaller rasters with 0s. Having raster tiles of identical sizes is required for random forest classification\n",
    "raster_dims = pad_rasters_to_largest(in_dir, verbose=verbose)\n"
   ]
  }
 ],
 "metadata": {
  "kernelspec": {
   "display_name": "GIStools",
   "language": "python",
   "name": "python3"
  },
  "language_info": {
   "codemirror_mode": {
    "name": "ipython",
    "version": 3
   },
   "file_extension": ".py",
   "mimetype": "text/x-python",
   "name": "python",
   "nbconvert_exporter": "python",
   "pygments_lexer": "ipython3",
   "version": "3.12.2"
  }
 },
 "nbformat": 4,
 "nbformat_minor": 2
}
