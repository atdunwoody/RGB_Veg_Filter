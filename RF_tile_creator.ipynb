{
 "cells": [
  {
   "cell_type": "code",
   "execution_count": 1,
   "metadata": {},
   "outputs": [],
   "source": [
    "import Tiled_Classification_RF as TCRF\n",
    "import os, tempfile\n",
    "from osgeo import gdal, ogr, gdal_array # I/O image data\n",
    "import numpy as np # math and array handling\n",
    "import matplotlib.pyplot as plt # plot figures\n",
    "from sklearn.ensemble import RandomForestClassifier # classifier\n",
    "import pandas as pd # handling large data as table sheets\n",
    "import geopandas as gpd # handling large data as shapefiles\n",
    "from sklearn.metrics import classification_report, accuracy_score,confusion_matrix  # calculating measures for accuracy assessment\n",
    "import datetime\n",
    "from xgboost import XGBClassifier\n",
    "# Tell GDAL to throw Python exceptions, and register all drivers\n",
    "gdal.UseExceptions()\n",
    "gdal.AllRegister()\n",
    "from GIStools.GIStools import preprocess_SfM_inputs\n",
    "from GIStools.Stitch_Rasters import stitch_rasters\n",
    "from GIStools.Grid_Creation import create_grid\n",
    "from GIStools.Raster_Matching import pad_rasters_to_largest\n",
    "from input_parameters import InputParameters\n",
    "import joblib"
   ]
  },
  {
   "cell_type": "code",
   "execution_count": 2,
   "metadata": {},
   "outputs": [],
   "source": [
    "#-------------------Required User Defined Inputs-------------------#\n",
    "params = InputParameters()\n",
    "\n",
    "DEM_path = params.DEM_path\n",
    "ortho_path = params.ortho_path\n",
    "output_folder = params.output_folder\n",
    "training_path = params.training_path\n",
    "validation_path = params.validation_path\n",
    "grid_ids_to_process = params.grid_ids_to_process\n",
    "grid_path = params.grid_path\n",
    "verbose = params.verbose\n",
    "stitch = params.stitch\n",
    "\n",
    "#--------------------Input Preparation-----------------------------#\n",
    "#Create output folder if it doesn't exist\n",
    "if not os.path.exists(output_folder):\n",
    "    os.makedirs(output_folder)\n",
    "\n",
    "#List of grid-clipped images to classify and associated id values\n",
    "in_dir = os.path.join(output_folder, 'RF_Tiled_Inputs')\n",
    "#output folder for list of img_path_list grid-clipped classified images\n",
    "\n",
    "# directory, where the classification image should be saved:\n",
    "results_folder = os.path.join(output_folder, 'RF_Results')\n",
    "if not os.path.exists(results_folder):\n",
    "    os.makedirs(results_folder)\n",
    "classified_tile_folder = os.path.join(results_folder, 'Classified_Tiles')\n",
    "if not os.path.exists(classified_tile_folder):\n",
    "    os.makedirs(os.path.join(classified_tile_folder))"
   ]
  },
  {
   "cell_type": "code",
   "execution_count": 3,
   "metadata": {},
   "outputs": [
    {
     "name": "stdout",
     "output_type": "stream",
     "text": [
      "Grid IDs: [27]\n",
      "Processing grid cell 1 of 1\n",
      "Masked raster saved to Y:\\ATD\\GIS\\East_Troublesome\\RF Vegetation Filtering\\LM2 - 070923\\RF_Tiled_Inputs\\Grid_27\\LM2_2023____070923_PostError_PCFiltered_Ortho_masked_27.tif\n",
      "Masked raster saved to Y:\\ATD\\GIS\\East_Troublesome\\RF Vegetation Filtering\\LM2 - 070923\\RF_Tiled_Inputs\\Grid_27\\LM2_2023____070923_PostError_PCFiltered_DEM_masked_27.tif\n",
      "Proccessing RGB Bands...\n",
      "EGI and Saturation rasters created.\n",
      "Rasters to stack:  ['Y:\\\\ATD\\\\GIS\\\\East_Troublesome\\\\RF Vegetation Filtering\\\\LM2 - 070923\\\\RF_Tiled_Inputs\\\\Grid_27\\\\orthoband_1.tif', 'Y:\\\\ATD\\\\GIS\\\\East_Troublesome\\\\RF Vegetation Filtering\\\\LM2 - 070923\\\\RF_Tiled_Inputs\\\\Grid_27\\\\orthoband_2.tif', 'Y:\\\\ATD\\\\GIS\\\\East_Troublesome\\\\RF Vegetation Filtering\\\\LM2 - 070923\\\\RF_Tiled_Inputs\\\\Grid_27\\\\orthoband_3.tif', 'Y:\\\\ATD\\\\GIS\\\\East_Troublesome\\\\RF Vegetation Filtering\\\\LM2 - 070923\\\\RF_Tiled_Inputs\\\\Grid_27\\\\Saturation.tif', 'Y:\\\\ATD\\\\GIS\\\\East_Troublesome\\\\RF Vegetation Filtering\\\\LM2 - 070923\\\\RF_Tiled_Inputs\\\\Grid_27\\\\EGI.tif']\n",
      "Clipped raster saved to Y:\\ATD\\GIS\\East_Troublesome\\RF Vegetation Filtering\\LM2 - 070923\\RF_Tiled_Inputs\\Grid_27\\roughness_clipped.tif\n",
      "Resampled DEM saved to: Y:\\ATD\\GIS\\East_Troublesome\\RF Vegetation Filtering\\LM2 - 070923\\RF_Tiled_Inputs\\Grid_27\\matched_roughness.tif\n",
      "Band 1 of  6 stacked.\n",
      "Band 2 of  6 stacked.\n",
      "Band 3 of  6 stacked.\n",
      "Band 4 of  6 stacked.\n",
      "Band 5 of  6 stacked.\n",
      "Band 6 of  6 stacked.\n",
      "Grid IDs to process: [27]\n",
      "Less than two rasters in folder. Skipping padding.\n",
      "Available attributes in the shape file are: ['id', 'Cover_Type', 'XGB']\n"
     ]
    }
   ],
   "source": [
    "#==================== Preprocessing ====================#\n",
    "    #Create grid cells to process large rasters in chunks. \n",
    "#Each grid cell is the size of the extent training and validation shapefiles\n",
    "if grid_path is None:\n",
    "    train_val_grid_id, grid_path, _ = create_grid([training_path,validation_path], DEM_path, in_dir)\n",
    "    grid = gpd.read_file(grid_path)\n",
    "    grid_ids_to_process = grid['ID'].values.tolist()\n",
    "    print('Training Grid ID: {}'.format(train_val_grid_id)) \n",
    "else:\n",
    "    grid = gpd.read_file(grid_path)\n",
    "    grid_ids_to_process = grid['ID'].values.tolist() if grid_ids_to_process is None else grid_ids_to_process\n",
    "    print('Grid IDs: {}'.format(grid_ids_to_process))  \n",
    "#Bands output from preprocess function: Roughness, R, G, B, Saturation, Excessive Green Index\n",
    "_, _ = preprocess_SfM_inputs(grid_path, ortho_path, DEM_path, grid_ids_to_process, in_dir, verbose=verbose) #Prepare input stacked rasters for random forest classification\n",
    "print('Grid IDs to process: {}'.format(grid_ids_to_process))\n",
    "#Ensure all rasters are the same size by padding smaller rasters with 0s. Having raster tiles of identical sizes is required for random forest classification\n",
    "raster_dims = pad_rasters_to_largest(in_dir, verbose=verbose)\n",
    "img_path_list, id_values = TCRF.find_files(in_dir) # list of all grid-clipped images to classify and associated id values\n",
    "attribute_names = TCRF.print_attributes(training_path) # print the attributes in the training shapefile\n"
   ]
  }
 ],
 "metadata": {
  "kernelspec": {
   "display_name": "GIStools",
   "language": "python",
   "name": "python3"
  },
  "language_info": {
   "codemirror_mode": {
    "name": "ipython",
    "version": 3
   },
   "file_extension": ".py",
   "mimetype": "text/x-python",
   "name": "python",
   "nbconvert_exporter": "python",
   "pygments_lexer": "ipython3",
   "version": "3.12.2"
  }
 },
 "nbformat": 4,
 "nbformat_minor": 2
}
