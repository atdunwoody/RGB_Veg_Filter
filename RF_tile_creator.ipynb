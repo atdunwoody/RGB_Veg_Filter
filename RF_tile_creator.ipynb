{
 "cells": [
  {
   "cell_type": "code",
   "execution_count": 1,
   "metadata": {},
   "outputs": [],
   "source": [
    "import Tiled_Classification_RF as TCRF\n",
    "import os, tempfile\n",
    "from osgeo import gdal, ogr, gdal_array # I/O image data\n",
    "import numpy as np # math and array handling\n",
    "import matplotlib.pyplot as plt # plot figures\n",
    "from sklearn.ensemble import RandomForestClassifier # classifier\n",
    "import pandas as pd # handling large data as table sheets\n",
    "import geopandas as gpd # handling large data as shapefiles\n",
    "from sklearn.metrics import classification_report, accuracy_score,confusion_matrix  # calculating measures for accuracy assessment\n",
    "import datetime\n",
    "from xgboost import XGBClassifier\n",
    "# Tell GDAL to throw Python exceptions, and register all drivers\n",
    "gdal.UseExceptions()\n",
    "gdal.AllRegister()\n",
    "from GIStools.GIStools import preprocess_SfM_inputs\n",
    "from GIStools.Stitch_Rasters import stitch_rasters\n",
    "from GIStools.Grid_Creation import create_grid\n",
    "from GIStools.Raster_Matching import pad_rasters_to_largest\n",
    "from GIStools.Raster_Augmentation import standarize_multi_band_rasters\n",
    "from RF_input_parameters import TileCreatorParameters\n",
    "import joblib"
   ]
  },
  {
   "cell_type": "code",
   "execution_count": 2,
   "metadata": {},
   "outputs": [],
   "source": [
    "#-------------------Required User Defined Inputs-------------------#\n",
    "params = TileCreatorParameters()\n",
    "\n",
    "DEM_path = params.DEM_path\n",
    "ortho_path = params.ortho_path\n",
    "output_folder = params.output_folder\n",
    "training_path = params.training_path\n",
    "validation_path = params.validation_path\n",
    "grid_ids_to_process = params.grid_ids_to_process\n",
    "grid_path = params.grid_path\n",
    "standardize_rasters = params.standardize_rasters\n",
    "verbose = params.verbose\n",
    "stitch = params.stitch\n",
    "\n",
    "#--------------------Input Preparation-----------------------------#\n",
    "#Create output folder if it doesn't exist\n",
    "if not os.path.exists(output_folder):\n",
    "    os.makedirs(output_folder)\n",
    "\n",
    "#List of grid-clipped images to classify and associated id values\n",
    "in_dir = os.path.join(output_folder, 'RF_Tiled_Inputs')\n",
    "\n"
   ]
  },
  {
   "cell_type": "code",
   "execution_count": 3,
   "metadata": {},
   "outputs": [
    {
     "name": "stdout",
     "output_type": "stream",
     "text": [
      "Training Grid ID: 29\n",
      "Processing grid cell 1 of 56\n",
      "Masked raster saved to Y:\\ATD\\GIS\\East_Troublesome\\RF Vegetation Filtering\\LM2 - 070923 - Water added expanded v2\\RF_Tiled_Inputs\\Grid_1\\LM2_2023____070923_PostError_PCFiltered_Ortho_masked_1.tif\n",
      "Masked raster saved to Y:\\ATD\\GIS\\East_Troublesome\\RF Vegetation Filtering\\LM2 - 070923 - Water added expanded v2\\RF_Tiled_Inputs\\Grid_1\\LM2_2023____070923_PostError_PCFiltered_DEM_masked_1.tif\n",
      "Proccessing RGB Bands...\n",
      "EGI and Saturation rasters created.\n",
      "Rasters to stack:  ['Y:\\\\ATD\\\\GIS\\\\East_Troublesome\\\\RF Vegetation Filtering\\\\LM2 - 070923 - Water added expanded v2\\\\RF_Tiled_Inputs\\\\Grid_1\\\\orthoband_1.tif', 'Y:\\\\ATD\\\\GIS\\\\East_Troublesome\\\\RF Vegetation Filtering\\\\LM2 - 070923 - Water added expanded v2\\\\RF_Tiled_Inputs\\\\Grid_1\\\\orthoband_2.tif', 'Y:\\\\ATD\\\\GIS\\\\East_Troublesome\\\\RF Vegetation Filtering\\\\LM2 - 070923 - Water added expanded v2\\\\RF_Tiled_Inputs\\\\Grid_1\\\\orthoband_3.tif', 'Y:\\\\ATD\\\\GIS\\\\East_Troublesome\\\\RF Vegetation Filtering\\\\LM2 - 070923 - Water added expanded v2\\\\RF_Tiled_Inputs\\\\Grid_1\\\\Saturation.tif', 'Y:\\\\ATD\\\\GIS\\\\East_Troublesome\\\\RF Vegetation Filtering\\\\LM2 - 070923 - Water added expanded v2\\\\RF_Tiled_Inputs\\\\Grid_1\\\\EGI.tif']\n",
      "Clipped raster saved to Y:\\ATD\\GIS\\East_Troublesome\\RF Vegetation Filtering\\LM2 - 070923 - Water added expanded v2\\RF_Tiled_Inputs\\Grid_1\\roughness_clipped.tif\n",
      "Resampled DEM saved to: Y:\\ATD\\GIS\\East_Troublesome\\RF Vegetation Filtering\\LM2 - 070923 - Water added expanded v2\\RF_Tiled_Inputs\\Grid_1\\matched_roughness.tif\n",
      "Band 1 of  6 stacked.\n",
      "Band 2 of  6 stacked.\n",
      "Band 3 of  6 stacked.\n",
      "Band 4 of  6 stacked.\n",
      "Band 5 of  6 stacked.\n",
      "Band 6 of  6 stacked.\n",
      "Grid cell 1 processed.\n",
      "Output saved to Y:\\ATD\\GIS\\East_Troublesome\\RF Vegetation Filtering\\LM2 - 070923 - Water added expanded v2\\RF_Tiled_Inputs\\stacked_bands_tile_input_1.tif\n",
      "Processing grid cell 2 of 56\n",
      "Masked raster saved to Y:\\ATD\\GIS\\East_Troublesome\\RF Vegetation Filtering\\LM2 - 070923 - Water added expanded v2\\RF_Tiled_Inputs\\Grid_2\\LM2_2023____070923_PostError_PCFiltered_Ortho_masked_2.tif\n",
      "Masked raster saved to Y:\\ATD\\GIS\\East_Troublesome\\RF Vegetation Filtering\\LM2 - 070923 - Water added expanded v2\\RF_Tiled_Inputs\\Grid_2\\LM2_2023____070923_PostError_PCFiltered_DEM_masked_2.tif\n",
      "Proccessing RGB Bands...\n",
      "EGI and Saturation rasters created.\n",
      "Rasters to stack:  ['Y:\\\\ATD\\\\GIS\\\\East_Troublesome\\\\RF Vegetation Filtering\\\\LM2 - 070923 - Water added expanded v2\\\\RF_Tiled_Inputs\\\\Grid_2\\\\orthoband_1.tif', 'Y:\\\\ATD\\\\GIS\\\\East_Troublesome\\\\RF Vegetation Filtering\\\\LM2 - 070923 - Water added expanded v2\\\\RF_Tiled_Inputs\\\\Grid_2\\\\orthoband_2.tif', 'Y:\\\\ATD\\\\GIS\\\\East_Troublesome\\\\RF Vegetation Filtering\\\\LM2 - 070923 - Water added expanded v2\\\\RF_Tiled_Inputs\\\\Grid_2\\\\orthoband_3.tif', 'Y:\\\\ATD\\\\GIS\\\\East_Troublesome\\\\RF Vegetation Filtering\\\\LM2 - 070923 - Water added expanded v2\\\\RF_Tiled_Inputs\\\\Grid_2\\\\Saturation.tif', 'Y:\\\\ATD\\\\GIS\\\\East_Troublesome\\\\RF Vegetation Filtering\\\\LM2 - 070923 - Water added expanded v2\\\\RF_Tiled_Inputs\\\\Grid_2\\\\EGI.tif']\n",
      "Clipped raster saved to Y:\\ATD\\GIS\\East_Troublesome\\RF Vegetation Filtering\\LM2 - 070923 - Water added expanded v2\\RF_Tiled_Inputs\\Grid_2\\roughness_clipped.tif\n",
      "Resampled DEM saved to: Y:\\ATD\\GIS\\East_Troublesome\\RF Vegetation Filtering\\LM2 - 070923 - Water added expanded v2\\RF_Tiled_Inputs\\Grid_2\\matched_roughness.tif\n",
      "Band 1 of  6 stacked.\n",
      "Band 2 of  6 stacked.\n",
      "Band 3 of  6 stacked.\n",
      "Band 4 of  6 stacked.\n",
      "Band 5 of  6 stacked.\n",
      "Band 6 of  6 stacked.\n"
     ]
    },
    {
     "ename": "KeyboardInterrupt",
     "evalue": "",
     "output_type": "error",
     "traceback": [
      "\u001b[1;31m---------------------------------------------------------------------------\u001b[0m",
      "\u001b[1;31mKeyboardInterrupt\u001b[0m                         Traceback (most recent call last)",
      "Cell \u001b[1;32mIn[3], line 14\u001b[0m\n\u001b[0;32m     12\u001b[0m     \u001b[38;5;28mprint\u001b[39m(\u001b[38;5;124m'\u001b[39m\u001b[38;5;124mGrid IDs: \u001b[39m\u001b[38;5;132;01m{}\u001b[39;00m\u001b[38;5;124m'\u001b[39m\u001b[38;5;241m.\u001b[39mformat(grid_ids_to_process))  \n\u001b[0;32m     13\u001b[0m \u001b[38;5;66;03m#Bands output from preprocess function: Roughness, R, G, B, Saturation, Excessive Green Index\u001b[39;00m\n\u001b[1;32m---> 14\u001b[0m grid_ids, tiled_raster_paths \u001b[38;5;241m=\u001b[39m \u001b[43mpreprocess_SfM_inputs\u001b[49m\u001b[43m(\u001b[49m\u001b[43mgrid_path\u001b[49m\u001b[43m,\u001b[49m\u001b[43m \u001b[49m\u001b[43mortho_path\u001b[49m\u001b[43m,\u001b[49m\u001b[43m \u001b[49m\u001b[43mDEM_path\u001b[49m\u001b[43m,\u001b[49m\u001b[43m \u001b[49m\u001b[43mgrid_ids_to_process\u001b[49m\u001b[43m,\u001b[49m\u001b[43m \u001b[49m\u001b[43min_dir\u001b[49m\u001b[43m,\u001b[49m\u001b[43m \u001b[49m\u001b[43mverbose\u001b[49m\u001b[38;5;241;43m=\u001b[39;49m\u001b[43mverbose\u001b[49m\u001b[43m)\u001b[49m \u001b[38;5;66;03m#Prepare input stacked rasters for random forest classification\u001b[39;00m\n",
      "File \u001b[1;32mc:\\Users\\alextd\\Documents\\GitHub\\RGB_Veg_Filter\\GIStools\\GIStools.py:457\u001b[0m, in \u001b[0;36mpreprocess_SfM_inputs\u001b[1;34m(shapefile_path, ortho_filepath, DEM_filepath, grid_ids, output_folder, verbose)\u001b[0m\n\u001b[0;32m    455\u001b[0m \u001b[38;5;28;01mif\u001b[39;00m \u001b[38;5;129;01mnot\u001b[39;00m os\u001b[38;5;241m.\u001b[39mpath\u001b[38;5;241m.\u001b[39mexists(output_folder):\n\u001b[0;32m    456\u001b[0m     os\u001b[38;5;241m.\u001b[39mmakedirs(output_folder)\n\u001b[1;32m--> 457\u001b[0m stacked_output \u001b[38;5;241m=\u001b[39m \u001b[43mstack_bands\u001b[49m\u001b[43m(\u001b[49m\u001b[43mmatched_roughness_path\u001b[49m\u001b[43m,\u001b[49m\u001b[43m \u001b[49m\u001b[43moutput_folder\u001b[49m\u001b[43m,\u001b[49m\u001b[43m \u001b[49m\u001b[43msuffix\u001b[49m\u001b[43m \u001b[49m\u001b[38;5;241;43m=\u001b[39;49m\u001b[43m \u001b[49m\u001b[43mgrid_id\u001b[49m\u001b[43m,\u001b[49m\u001b[43m \u001b[49m\u001b[43mverbose\u001b[49m\u001b[38;5;241;43m=\u001b[39;49m\u001b[43mverbose\u001b[49m\u001b[43m)\u001b[49m\n\u001b[0;32m    459\u001b[0m \u001b[38;5;66;03m#Close datasets\u001b[39;00m\n\u001b[0;32m    460\u001b[0m masked_rasters \u001b[38;5;241m=\u001b[39m \u001b[38;5;28;01mNone\u001b[39;00m\n",
      "File \u001b[1;32mc:\\Users\\alextd\\Documents\\GitHub\\RGB_Veg_Filter\\GIStools\\GIStools.py:262\u001b[0m, in \u001b[0;36mstack_bands\u001b[1;34m(input_raster_list, output_path, suffix, verbose)\u001b[0m\n\u001b[0;32m    259\u001b[0m src_ds \u001b[38;5;241m=\u001b[39m \u001b[38;5;28;01mNone\u001b[39;00m\n\u001b[0;32m    260\u001b[0m out_ds \u001b[38;5;241m=\u001b[39m \u001b[38;5;28;01mNone\u001b[39;00m\n\u001b[1;32m--> 262\u001b[0m \u001b[38;5;28;01mreturn\u001b[39;00m \u001b[38;5;28;43mstr\u001b[39;49m\u001b[43m(\u001b[49m\u001b[43moutput_file\u001b[49m\u001b[43m)\u001b[49m\n",
      "\u001b[1;31mKeyboardInterrupt\u001b[0m: "
     ]
    }
   ],
   "source": [
    "#==================== Preprocessing ====================#\n",
    "    #Create grid cells to process large rasters in chunks. \n",
    "#Each grid cell is the size of the extent training and validation shapefiles\n",
    "if grid_path is None:\n",
    "    train_val_grid_id, grid_path, _ = create_grid([training_path,validation_path], DEM_path, in_dir)\n",
    "    grid = gpd.read_file(grid_path)\n",
    "    grid_ids_to_process = grid['id'].values.tolist() if grid_ids_to_process is None else grid_ids_to_process\n",
    "    print('Training Grid ID: {}'.format(train_val_grid_id)) \n",
    "else:\n",
    "    grid = gpd.read_file(grid_path)\n",
    "    grid_ids_to_process = grid['id'].values.tolist() if grid_ids_to_process is None else grid_ids_to_process\n",
    "    print('Grid IDs: {}'.format(grid_ids_to_process))  \n",
    "#Bands output from preprocess function: Roughness, R, G, B, Saturation, Excessive Green Index\n",
    "grid_ids, tiled_raster_paths = preprocess_SfM_inputs(grid_path, ortho_path, DEM_path, grid_ids_to_process, in_dir, verbose=verbose) #Prepare input stacked rasters for random forest classification"
   ]
  },
  {
   "cell_type": "code",
   "execution_count": null,
   "metadata": {},
   "outputs": [
    {
     "name": "stdout",
     "output_type": "stream",
     "text": [
      "Standardized raster saved to: Y:\\ATD\\Drone Data Processing\\GIS Processing\\Random_Forest_BE_Classification\\LM2\\08122023\\RF_Tiled_Inputs\\stacked_bands_tile_input_27_standardized.tif\n",
      "Standardized raster saved to: Y:\\ATD\\Drone Data Processing\\GIS Processing\\Random_Forest_BE_Classification\\LM2\\08122023\\RF_Tiled_Inputs\\stacked_bands_tile_input_29_standardized.tif\n"
     ]
    }
   ],
   "source": [
    "if standardize_rasters:\n",
    "    standarized_rasters = standarize_multi_band_rasters(tiled_raster_paths) #Standarize rasters for random forest classification\n",
    "\n",
    "#Ensure all rasters are the same size by padding smaller rasters with 0s. Having raster tiles of identical sizes is required for random forest classification\n",
    "raster_dims = pad_rasters_to_largest(in_dir, verbose=verbose)\n"
   ]
  }
 ],
 "metadata": {
  "kernelspec": {
   "display_name": "GIStools",
   "language": "python",
   "name": "python3"
  },
  "language_info": {
   "codemirror_mode": {
    "name": "ipython",
    "version": 3
   },
   "file_extension": ".py",
   "mimetype": "text/x-python",
   "name": "python",
   "nbconvert_exporter": "python",
   "pygments_lexer": "ipython3",
   "version": "3.12.2"
  }
 },
 "nbformat": 4,
 "nbformat_minor": 2
}
