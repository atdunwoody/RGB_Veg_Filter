{
 "cells": [
  {
   "cell_type": "code",
   "execution_count": 1,
   "metadata": {},
   "outputs": [],
   "source": [
    "import Tiled_Classification_RF as TCRF\n",
    "import os, tempfile\n",
    "from osgeo import gdal, ogr, gdal_array # I/O image data\n",
    "import numpy as np # math and array handling\n",
    "import matplotlib.pyplot as plt # plot figures\n",
    "from sklearn.ensemble import RandomForestClassifier # classifier\n",
    "import pandas as pd # handling large data as table sheets\n",
    "import geopandas as gpd # handling large data as shapefiles\n",
    "from sklearn.metrics import classification_report, accuracy_score,confusion_matrix  # calculating measures for accuracy assessment\n",
    "import datetime\n",
    "from xgboost import XGBClassifier\n",
    "# Tell GDAL to throw Python exceptions, and register all drivers\n",
    "gdal.UseExceptions()\n",
    "gdal.AllRegister()\n",
    "from GIStools.GIStools import preprocess_SfM_inputs\n",
    "from GIStools.Stitch_Rasters import stitch_rasters\n",
    "from GIStools.Grid_Creation import create_grid\n",
    "from GIStools.Raster_Matching import pad_rasters_to_largest\n",
    "from RF_input_parameters import TileClassifierParameters\n",
    "import joblib"
   ]
  },
  {
   "cell_type": "code",
   "execution_count": 2,
   "metadata": {},
   "outputs": [],
   "source": [
    "#-------------------Required User Defined Inputs-------------------#\n",
    "params = TileClassifierParameters()\n",
    "\n",
    "DEM_path = params.DEM_path\n",
    "ortho_path = params.ortho_path\n",
    "output_folder = params.output_folder\n",
    "model_path = params.model_path\n",
    "grid_ids_to_process  = params.grid_ids_to_process \n",
    "grid_path = params.grid_path\n",
    "verbose = params.verbose\n",
    "stitch = params.stitch\n",
    "\n",
    "#--------------------Input Preparation-----------------------------#\n",
    "in_dir = os.path.join(output_folder, 'RF_Tiled_Inputs')\n",
    "\n",
    "results_folder = os.path.join(output_folder, 'RF_Results')\n",
    "if not os.path.exists(results_folder):\n",
    "    os.makedirs(results_folder)\n",
    "\n",
    "classified_tile_folder = os.path.join(results_folder, 'Classified_Tiles')\n",
    "if not os.path.exists(classified_tile_folder):\n",
    "    os.makedirs(classified_tile_folder)\n",
    "    \n",
    "results_txt = os.path.join(output_folder, 'Results_Summary.txt') # directory, where the all meta results will be saved"
   ]
  },
  {
   "cell_type": "code",
   "execution_count": 3,
   "metadata": {},
   "outputs": [
    {
     "name": "stdout",
     "output_type": "stream",
     "text": [
      "\n",
      "Processing grid 27\n",
      "Extracting image data from: Y:\\ATD\\Drone Data Processing\\GIS Processing\\Random_Forest_BE_Classification\\LM2\\07092023\\RF_Tiled_Inputs\\stacked_bands_tile_input_27.tif\n",
      "Image extent: 5459 x 9809 (row x col)\n",
      "Number of Bands: 6\n",
      "Reshaped from (5459, 9809, 6) to (53547331, 6)\n",
      "No slicing was necessary!\n",
      "Reshaped back to (5459, 9809)\n",
      "Image saved to: Y:\\ATD\\Drone Data Processing\\GIS Processing\\Random_Forest_BE_Classification\\LM2\\07092023\\RF_Results\\Classified_Tiles\\Classification_Tile_27.tif\n",
      "\n",
      "Processing grid 29\n",
      "Extracting image data from: Y:\\ATD\\Drone Data Processing\\GIS Processing\\Random_Forest_BE_Classification\\LM2\\07092023\\RF_Tiled_Inputs\\stacked_bands_tile_input_29.tif\n",
      "Image extent: 5459 x 9809 (row x col)\n",
      "Number of Bands: 6\n",
      "Reshaped from (5459, 9809, 6) to (53547331, 6)\n",
      "No slicing was necessary!\n",
      "Reshaped back to (5459, 9809)\n",
      "Image saved to: Y:\\ATD\\Drone Data Processing\\GIS Processing\\Random_Forest_BE_Classification\\LM2\\07092023\\RF_Results\\Classified_Tiles\\Classification_Tile_29.tif\n"
     ]
    }
   ],
   "source": [
    "\n",
    "#===========================Main Classification Loop===========================#\n",
    "model = joblib.load(model_path)  # Load the saved model\n",
    "for grid_id in grid_ids_to_process:\n",
    "    print(f\"\\nProcessing grid {grid_id}\")\n",
    "    classification_image = os.path.join(classified_tile_folder, f\"Classification_Tile_{grid_id}.tif\")\n",
    "    process_tile_path = os.path.join(in_dir, f\"stacked_bands_tile_input_{grid_id}.tif\") # path to the tile to be classified\n",
    "    process_tile, process_tile_3Darray = TCRF.extract_image_data(process_tile_path, results_txt, log=True) # extract the training tile image data\n",
    "    process_tile_2Darray = TCRF.flatten_raster_bands(process_tile_3Darray) # Convert NaNs to 0.0 and reshape the 3D array to 2D array\n",
    "    class_prediction = TCRF.predict_classification(model, process_tile_2Darray, process_tile_3Darray) # predict the classification for each pixel using the trained model\n",
    "    masked_prediction = TCRF.reshape_and_mask_prediction(class_prediction, process_tile_3Darray) # mask the prediction to only include bare earth and vegetation\n",
    "    TCRF.save_classification_image(classification_image, process_tile, process_tile_3Darray, masked_prediction) # save the masked classification image\n",
    "\n",
    "    del process_tile # close the image dataset"
   ]
  }
 ],
 "metadata": {
  "kernelspec": {
   "display_name": "GIStools",
   "language": "python",
   "name": "python3"
  },
  "language_info": {
   "codemirror_mode": {
    "name": "ipython",
    "version": 3
   },
   "file_extension": ".py",
   "mimetype": "text/x-python",
   "name": "python",
   "nbconvert_exporter": "python",
   "pygments_lexer": "ipython3",
   "version": "3.12.2"
  }
 },
 "nbformat": 4,
 "nbformat_minor": 2
}
