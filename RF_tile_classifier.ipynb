{
 "cells": [
  {
   "cell_type": "code",
   "execution_count": 2,
   "metadata": {},
   "outputs": [],
   "source": [
    "import Tiled_Classification_RF as TCRF\n",
    "import os, tempfile\n",
    "from osgeo import gdal, ogr, gdal_array # I/O image data\n",
    "import numpy as np # math and array handling\n",
    "import matplotlib.pyplot as plt # plot figures\n",
    "from sklearn.ensemble import RandomForestClassifier # classifier\n",
    "import pandas as pd # handling large data as table sheets\n",
    "import geopandas as gpd # handling large data as shapefiles\n",
    "from sklearn.metrics import classification_report, accuracy_score,confusion_matrix  # calculating measures for accuracy assessment\n",
    "import datetime\n",
    "from xgboost import XGBClassifier\n",
    "# Tell GDAL to throw Python exceptions, and register all drivers\n",
    "gdal.UseExceptions()\n",
    "gdal.AllRegister()\n",
    "from GIStools.GIStools import preprocess_SfM_inputs\n",
    "from GIStools.Stitch_Rasters import stitch_rasters\n",
    "from GIStools.Grid_Creation import create_grid\n",
    "from GIStools.Raster_Matching import pad_rasters_to_largest\n",
    "from RF_tile_classifier_parameters import InputParameters\n",
    "import joblib"
   ]
  },
  {
   "cell_type": "code",
   "execution_count": 4,
   "metadata": {},
   "outputs": [],
   "source": [
    "#-------------------Required User Defined Inputs-------------------#\n",
    "params = InputParameters()\n",
    "\n",
    "DEM_path = params.DEM_path\n",
    "ortho_path = params.ortho_path\n",
    "output_folder = params.output_folder\n",
    "model_path = params.model_path\n",
    "grid_ids_to_process  = params.grid_ids_to_process \n",
    "grid_path = params.grid_path\n",
    "verbose = params.verbose\n",
    "stitch = params.stitch\n",
    "\n",
    "#--------------------Input Preparation-----------------------------#\n",
    "in_dir = os.path.join(output_folder, 'RF_Tiled_Inputs')\n",
    "\n",
    "results_folder = os.path.join(output_folder, 'RF_Results')\n",
    "if not os.path.exists(results_folder):\n",
    "    os.makedirs(results_folder)\n",
    "\n",
    "classified_tile_folder = os.path.join(results_folder, 'Classified_Tiles')\n",
    "if not os.path.exists(classified_tile_folder):\n",
    "    os.makedirs(classified_tile_folder)\n",
    "    \n",
    "results_txt = os.path.join(output_folder, 'Results_Summary.txt') # directory, where the all meta results will be saved"
   ]
  },
  {
   "cell_type": "code",
   "execution_count": 5,
   "metadata": {},
   "outputs": [
    {
     "name": "stdout",
     "output_type": "stream",
     "text": [
      "Extracting image data from: Y:\\ATD\\GIS\\East_Troublesome\\RF Vegetation Filtering\\LM2 - 081222 Full Run\\RF_Tiled_Inputs\\stacked_bands_tile_input_27.tif\n",
      "Image extent: 5142 x 9238 (row x col)\n",
      "Number of Bands: 6\n",
      "Reshaped from (5142, 9238, 6) to (47501796, 6)\n",
      "No slicing was necessary!\n",
      "Reshaped back to (5142, 9238)\n",
      "Image saved to: Y:\\ATD\\GIS\\East_Troublesome\\RF Vegetation Filtering\\LM2 - 081222 v2\\RF_Results\\Classified_Training_Image.tif\n"
     ]
    },
    {
     "ename": "FileNotFoundError",
     "evalue": "[WinError 2] The system cannot find the file specified: 'temp_roughness.tif'",
     "output_type": "error",
     "traceback": [
      "\u001b[1;31m---------------------------------------------------------------------------\u001b[0m",
      "\u001b[1;31mFileNotFoundError\u001b[0m                         Traceback (most recent call last)",
      "Cell \u001b[1;32mIn[5], line 11\u001b[0m\n\u001b[0;32m      9\u001b[0m class_prediction \u001b[38;5;241m=\u001b[39m TCRF\u001b[38;5;241m.\u001b[39mpredict_classification(rf, process_tile_2Darray, process_tile_3Darray) \u001b[38;5;66;03m# predict the classification for each pixel using the trained model\u001b[39;00m\n\u001b[0;32m     10\u001b[0m masked_prediction \u001b[38;5;241m=\u001b[39m TCRF\u001b[38;5;241m.\u001b[39mreshape_and_mask_prediction(class_prediction, process_tile_3Darray) \u001b[38;5;66;03m# mask the prediction to only include bare earth and vegetation\u001b[39;00m\n\u001b[1;32m---> 11\u001b[0m \u001b[43mTCRF\u001b[49m\u001b[38;5;241;43m.\u001b[39;49m\u001b[43msave_classification_image\u001b[49m\u001b[43m(\u001b[49m\u001b[43mclassification_image\u001b[49m\u001b[43m,\u001b[49m\u001b[43m \u001b[49m\u001b[43mprocess_tile\u001b[49m\u001b[43m,\u001b[49m\u001b[43m \u001b[49m\u001b[43mprocess_tile_3Darray\u001b[49m\u001b[43m,\u001b[49m\u001b[43m \u001b[49m\u001b[43mmasked_prediction\u001b[49m\u001b[43m)\u001b[49m \u001b[38;5;66;03m# save the masked classification image\u001b[39;00m\n\u001b[0;32m     13\u001b[0m \u001b[38;5;28;01mdel\u001b[39;00m process_tile \u001b[38;5;66;03m# close the image dataset\u001b[39;00m\n",
      "File \u001b[1;32mc:\\Users\\alextd\\Documents\\GitHub\\RGB_Veg_Filter\\Tiled_Classification_RF.py:359\u001b[0m, in \u001b[0;36msave_classification_image\u001b[1;34m(save_path, raster, raster_3Darray, masked_prediction)\u001b[0m\n\u001b[0;32m    357\u001b[0m \u001b[38;5;28mprint\u001b[39m(\u001b[38;5;124m'\u001b[39m\u001b[38;5;124mImage saved to: \u001b[39m\u001b[38;5;132;01m{}\u001b[39;00m\u001b[38;5;124m'\u001b[39m\u001b[38;5;241m.\u001b[39mformat(save_path))\n\u001b[0;32m    358\u001b[0m \u001b[38;5;66;03m#delete temp_roughness.tif \u001b[39;00m\n\u001b[1;32m--> 359\u001b[0m \u001b[43mos\u001b[49m\u001b[38;5;241;43m.\u001b[39;49m\u001b[43mremove\u001b[49m\u001b[43m(\u001b[49m\u001b[38;5;124;43m\"\u001b[39;49m\u001b[38;5;124;43mtemp_roughness.tif\u001b[39;49m\u001b[38;5;124;43m\"\u001b[39;49m\u001b[43m)\u001b[49m\n",
      "\u001b[1;31mFileNotFoundError\u001b[0m: [WinError 2] The system cannot find the file specified: 'temp_roughness.tif'"
     ]
    }
   ],
   "source": [
    "\n",
    "#===========================Main Classification Loop===========================#\n",
    "model = joblib.load(model_path)  # Load the saved model\n",
    "for grid_id in grid_ids_to_process:\n",
    "    classification_image = os.path.join(results_folder, f\"Classification_Tile_{grid_id}.tif\")\n",
    "    process_tile_path = os.path.join(in_dir, f\"stacked_bands_tile_input_{grid_id}.tif\") # path to the tile to be classified\n",
    "    process_tile, process_tile_3Darray = TCRF.extract_image_data(process_tile_path, results_txt, log=True) # extract the training tile image data\n",
    "    process_tile_2Darray = TCRF.flatten_raster_bands(process_tile_3Darray) # Convert NaNs to 0.0 and reshape the 3D array to 2D array\n",
    "    class_prediction = TCRF.predict_classification(model, process_tile_2Darray, process_tile_3Darray) # predict the classification for each pixel using the trained model\n",
    "    masked_prediction = TCRF.reshape_and_mask_prediction(class_prediction, process_tile_3Darray) # mask the prediction to only include bare earth and vegetation\n",
    "    TCRF.save_classification_image(classification_image, process_tile, process_tile_3Darray, masked_prediction) # save the masked classification image\n",
    "\n",
    "    del process_tile # close the image dataset"
   ]
  }
 ],
 "metadata": {
  "kernelspec": {
   "display_name": "GIStools",
   "language": "python",
   "name": "python3"
  },
  "language_info": {
   "codemirror_mode": {
    "name": "ipython",
    "version": 3
   },
   "file_extension": ".py",
   "mimetype": "text/x-python",
   "name": "python",
   "nbconvert_exporter": "python",
   "pygments_lexer": "ipython3",
   "version": "3.12.2"
  }
 },
 "nbformat": 4,
 "nbformat_minor": 2
}
